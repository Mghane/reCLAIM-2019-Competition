{
 "cells": [
  {
   "cell_type": "markdown",
   "metadata": {
    "colab_type": "text",
    "id": "view-in-github"
   },
   "source": [
    "<a href=\"https://colab.research.google.com/github/Meisam-Heidari/reCLAIM-2019-Competition/blob/master/EDA_Meisam.ipynb\" target=\"_parent\"><img src=\"https://colab.research.google.com/assets/colab-badge.svg\" alt=\"Open In Colab\"/></a>"
   ]
  },
  {
   "cell_type": "code",
   "execution_count": 2,
   "metadata": {
    "colab": {},
    "colab_type": "code",
    "id": "gF2ZP-F48uN3"
   },
   "outputs": [],
   "source": [
    "import numpy  as np\n",
    "import pandas as pd"
   ]
  },
  {
   "cell_type": "code",
   "execution_count": 3,
   "metadata": {
    "colab": {
     "base_uri": "https://localhost:8080/",
     "height": 34
    },
    "colab_type": "code",
    "id": "ehFmOjzn9Jxa",
    "outputId": "eb2b45d5-8679-4d7c-ef37-90261ad47262"
   },
   "outputs": [
    {
     "name": "stdout",
     "output_type": "stream",
     "text": [
      "hi\n"
     ]
    }
   ],
   "source": [
    "print(\"hi\")"
   ]
  },
  {
   "cell_type": "code",
   "execution_count": 4,
   "metadata": {
    "colab": {
     "base_uri": "https://localhost:8080/",
     "height": 34
    },
    "colab_type": "code",
    "id": "ffql8gZV9XyJ",
    "outputId": "26e708d4-b2b5-4d2b-f991-850a1aeb99d6"
   },
   "outputs": [
    {
     "name": "stdout",
     "output_type": "stream",
     "text": [
      "hi Meisam\n"
     ]
    }
   ],
   "source": [
    "print('hi Meisam')"
   ]
  },
  {
   "cell_type": "code",
   "execution_count": 5,
   "metadata": {
    "colab": {
     "base_uri": "https://localhost:8080/",
     "height": 159
    },
    "colab_type": "code",
    "id": "BN_qtQPL9il6",
    "outputId": "ce4a3b8f-8f11-4764-c3a4-d5ea758d6326"
   },
   "outputs": [],
   "source": [
    "#from google.colab import drive\n",
    "#drive.mount('/gdrive')\n",
    "#%cd /gdrive"
   ]
  },
  {
   "cell_type": "markdown",
   "metadata": {
    "colab_type": "text",
    "id": "uN0Iw86SOBmb"
   },
   "source": [
    "# Regression DataSet"
   ]
  },
  {
   "cell_type": "markdown",
   "metadata": {
    "colab_type": "text",
    "id": "RAnCfzKGEXqo"
   },
   "source": [
    "## Loading"
   ]
  },
  {
   "cell_type": "code",
   "execution_count": 6,
   "metadata": {
    "colab": {},
    "colab_type": "code",
    "id": "okV0kK_l96L4"
   },
   "outputs": [],
   "source": [
    "#df_reg_header_test = pd.read_csv(\"/gdrive/My Drive/reCLAIM 2019 Competition/regression_comp_starter_kit/regression_comp_starter_kit/Header - test.txt\")\n",
    "#df_reg_header_train = pd.read_csv(\"/gdrive/My Drive/reCLAIM 2019 Competition/regression_comp_starter_kit/regression_comp_starter_kit/Header - train.txt\")\n",
    "#df_reg_header_validation = pd.read_csv(\"/gdrive/My Drive/reCLAIM 2019 Competition/regression_comp_starter_kit/regression_comp_starter_kit/Header - validation.txt\")\n",
    "#df_reg_viking_train = pd.read_csv(\"/gdrive/My Drive/reCLAIM 2019 Competition/regression_comp_starter_kit/regression_comp_starter_kit/Viking - Train.txt\")\n",
    "#df_reg_viking_validation = pd.read_csv(\"/gdrive/My Drive/reCLAIM 2019 Competition/regression_comp_starter_kit/regression_comp_starter_kit/Viking - Validation.txt\")\n"
   ]
  },
  {
   "cell_type": "code",
   "execution_count": 10,
   "metadata": {
    "colab": {},
    "colab_type": "code",
    "id": "6Baw2_TZEXYm"
   },
   "outputs": [],
   "source": [
    "df_reg_header_test = pd.read_csv(\"regression/Header - test.txt\")\n",
    "df_reg_header_train = pd.read_csv(\"regression/Header - train.txt\")\n",
    "df_reg_header_validation = pd.read_csv(\"regression/Header - validation.txt\")\n",
    "df_reg_viking_train = pd.read_csv(\"regression/Viking - Train.txt\")\n",
    "df_reg_viking_validation = pd.read_csv(\"regression/Viking - Validation.txt\")\n",
    "\n"
   ]
  },
  {
   "cell_type": "code",
   "execution_count": 11,
   "metadata": {
    "colab": {
     "base_uri": "https://localhost:8080/",
     "height": 258
    },
    "colab_type": "code",
    "id": "nn88ZVaE-V9y",
    "outputId": "ab69f2a1-bf77-4033-ef7f-20f514d8f1cc"
   },
   "outputs": [
    {
     "data": {
      "text/html": [
       "<div>\n",
       "<style scoped>\n",
       "    .dataframe tbody tr th:only-of-type {\n",
       "        vertical-align: middle;\n",
       "    }\n",
       "\n",
       "    .dataframe tbody tr th {\n",
       "        vertical-align: top;\n",
       "    }\n",
       "\n",
       "    .dataframe thead th {\n",
       "        text-align: right;\n",
       "    }\n",
       "</style>\n",
       "<table border=\"1\" class=\"dataframe\">\n",
       "  <thead>\n",
       "    <tr style=\"text-align: right;\">\n",
       "      <th></th>\n",
       "      <th>EPAssetsId</th>\n",
       "      <th>Province</th>\n",
       "      <th>LicenceNumber</th>\n",
       "      <th>UWI</th>\n",
       "      <th>CurrentOperator</th>\n",
       "      <th>CurrentOperatorParent</th>\n",
       "      <th>CurrentOperatorID</th>\n",
       "      <th>Licensee</th>\n",
       "      <th>LicenseeParentCompany</th>\n",
       "      <th>LicenseeID</th>\n",
       "      <th>...</th>\n",
       "      <th>UnitID</th>\n",
       "      <th>UnitName</th>\n",
       "      <th>UnitFlag</th>\n",
       "      <th>Municipality</th>\n",
       "      <th>CompletionDate</th>\n",
       "      <th>Agent</th>\n",
       "      <th>_Max`Prod`(BOE)</th>\n",
       "      <th>_Fracture`Stages</th>\n",
       "      <th>_Open`Hole</th>\n",
       "      <th>_Completion`Events</th>\n",
       "    </tr>\n",
       "  </thead>\n",
       "  <tbody>\n",
       "    <tr>\n",
       "      <td>0</td>\n",
       "      <td>2367432</td>\n",
       "      <td>Alberta</td>\n",
       "      <td>0195212</td>\n",
       "      <td>102032605705W400</td>\n",
       "      <td>Canadian Natural Resources Limited</td>\n",
       "      <td>159</td>\n",
       "      <td>NaN</td>\n",
       "      <td>Canadian Natural Resources Limited</td>\n",
       "      <td>159</td>\n",
       "      <td>NaN</td>\n",
       "      <td>...</td>\n",
       "      <td>NaN</td>\n",
       "      <td>NaN</td>\n",
       "      <td>No</td>\n",
       "      <td>NaN</td>\n",
       "      <td>NaN</td>\n",
       "      <td>Unspecified</td>\n",
       "      <td>NaN</td>\n",
       "      <td>NaN</td>\n",
       "      <td>CasedCompleted</td>\n",
       "      <td>NaN</td>\n",
       "    </tr>\n",
       "    <tr>\n",
       "      <td>1</td>\n",
       "      <td>2475476</td>\n",
       "      <td>Alberta</td>\n",
       "      <td>0264445</td>\n",
       "      <td>100023507714W400</td>\n",
       "      <td>Canadian Natural Resources Limited</td>\n",
       "      <td>159</td>\n",
       "      <td>NaN</td>\n",
       "      <td>Point Loma Resources Ltd.</td>\n",
       "      <td>8932</td>\n",
       "      <td>NaN</td>\n",
       "      <td>...</td>\n",
       "      <td>NaN</td>\n",
       "      <td>NaN</td>\n",
       "      <td>No</td>\n",
       "      <td>NaN</td>\n",
       "      <td>NaN</td>\n",
       "      <td>Unspecified</td>\n",
       "      <td>NaN</td>\n",
       "      <td>NaN</td>\n",
       "      <td>CasedCompleted</td>\n",
       "      <td>NaN</td>\n",
       "    </tr>\n",
       "  </tbody>\n",
       "</table>\n",
       "<p>2 rows × 90 columns</p>\n",
       "</div>"
      ],
      "text/plain": [
       "   EPAssetsId Province LicenceNumber               UWI  \\\n",
       "0     2367432  Alberta       0195212  102032605705W400   \n",
       "1     2475476  Alberta       0264445  100023507714W400   \n",
       "\n",
       "                      CurrentOperator  CurrentOperatorParent  \\\n",
       "0  Canadian Natural Resources Limited                    159   \n",
       "1  Canadian Natural Resources Limited                    159   \n",
       "\n",
       "   CurrentOperatorID                            Licensee  \\\n",
       "0                NaN  Canadian Natural Resources Limited   \n",
       "1                NaN           Point Loma Resources Ltd.   \n",
       "\n",
       "   LicenseeParentCompany  LicenseeID  ... UnitID UnitName UnitFlag  \\\n",
       "0                    159         NaN  ...    NaN      NaN       No   \n",
       "1                   8932         NaN  ...    NaN      NaN       No   \n",
       "\n",
       "  Municipality CompletionDate        Agent _Max`Prod`(BOE) _Fracture`Stages  \\\n",
       "0          NaN            NaN  Unspecified             NaN              NaN   \n",
       "1          NaN            NaN  Unspecified             NaN              NaN   \n",
       "\n",
       "       _Open`Hole _Completion`Events  \n",
       "0  CasedCompleted                NaN  \n",
       "1  CasedCompleted                NaN  \n",
       "\n",
       "[2 rows x 90 columns]"
      ]
     },
     "execution_count": 11,
     "metadata": {},
     "output_type": "execute_result"
    }
   ],
   "source": [
    "df_reg_header_test.head(2)\n"
   ]
  },
  {
   "cell_type": "code",
   "execution_count": 12,
   "metadata": {
    "colab": {
     "base_uri": "https://localhost:8080/",
     "height": 109
    },
    "colab_type": "code",
    "id": "ElSIDCC-FyJI",
    "outputId": "1fdd813b-14b3-4761-da2c-99daeb4e33d7"
   },
   "outputs": [
    {
     "data": {
      "text/html": [
       "<div>\n",
       "<style scoped>\n",
       "    .dataframe tbody tr th:only-of-type {\n",
       "        vertical-align: middle;\n",
       "    }\n",
       "\n",
       "    .dataframe tbody tr th {\n",
       "        vertical-align: top;\n",
       "    }\n",
       "\n",
       "    .dataframe thead th {\n",
       "        text-align: right;\n",
       "    }\n",
       "</style>\n",
       "<table border=\"1\" class=\"dataframe\">\n",
       "  <thead>\n",
       "    <tr style=\"text-align: right;\">\n",
       "      <th></th>\n",
       "      <th>EPAssetsId</th>\n",
       "      <th>UWI</th>\n",
       "      <th>_Normalized`IP`BOE/d</th>\n",
       "      <th>_Normalized`IP`(Oil`-`Bbls)</th>\n",
       "      <th>_Normalized`IP`Gas`(Boe/d)</th>\n",
       "      <th>_Normalized`IP`(Water`-`Bbls)</th>\n",
       "    </tr>\n",
       "  </thead>\n",
       "  <tbody>\n",
       "    <tr>\n",
       "      <td>0</td>\n",
       "      <td>2600565</td>\n",
       "      <td>100010303502W400</td>\n",
       "      <td>39.572937</td>\n",
       "      <td>25.384235</td>\n",
       "      <td>14.188702</td>\n",
       "      <td>NaN</td>\n",
       "    </tr>\n",
       "    <tr>\n",
       "      <td>1</td>\n",
       "      <td>2596704</td>\n",
       "      <td>100032903508W400</td>\n",
       "      <td>51.604687</td>\n",
       "      <td>41.061911</td>\n",
       "      <td>10.542776</td>\n",
       "      <td>NaN</td>\n",
       "    </tr>\n",
       "  </tbody>\n",
       "</table>\n",
       "</div>"
      ],
      "text/plain": [
       "   EPAssetsId               UWI  _Normalized`IP`BOE/d  \\\n",
       "0     2600565  100010303502W400             39.572937   \n",
       "1     2596704  100032903508W400             51.604687   \n",
       "\n",
       "   _Normalized`IP`(Oil`-`Bbls)  _Normalized`IP`Gas`(Boe/d)  \\\n",
       "0                    25.384235                   14.188702   \n",
       "1                    41.061911                   10.542776   \n",
       "\n",
       "   _Normalized`IP`(Water`-`Bbls)  \n",
       "0                            NaN  \n",
       "1                            NaN  "
      ]
     },
     "execution_count": 12,
     "metadata": {},
     "output_type": "execute_result"
    }
   ],
   "source": [
    "df_reg_viking_train.head(2)"
   ]
  },
  {
   "cell_type": "code",
   "execution_count": 13,
   "metadata": {
    "colab": {
     "base_uri": "https://localhost:8080/",
     "height": 258
    },
    "colab_type": "code",
    "id": "dYeJ_1oYFyTy",
    "outputId": "97dfbf20-5d8d-4301-b0f0-1bb784d8e5ff"
   },
   "outputs": [
    {
     "data": {
      "text/html": [
       "<div>\n",
       "<style scoped>\n",
       "    .dataframe tbody tr th:only-of-type {\n",
       "        vertical-align: middle;\n",
       "    }\n",
       "\n",
       "    .dataframe tbody tr th {\n",
       "        vertical-align: top;\n",
       "    }\n",
       "\n",
       "    .dataframe thead th {\n",
       "        text-align: right;\n",
       "    }\n",
       "</style>\n",
       "<table border=\"1\" class=\"dataframe\">\n",
       "  <thead>\n",
       "    <tr style=\"text-align: right;\">\n",
       "      <th></th>\n",
       "      <th>EPAssetsId</th>\n",
       "      <th>Province</th>\n",
       "      <th>LicenceNumber</th>\n",
       "      <th>UWI</th>\n",
       "      <th>CurrentOperator</th>\n",
       "      <th>CurrentOperatorParent</th>\n",
       "      <th>CurrentOperatorID</th>\n",
       "      <th>Licensee</th>\n",
       "      <th>LicenseeParentCompany</th>\n",
       "      <th>LicenseeID</th>\n",
       "      <th>...</th>\n",
       "      <th>UnitID</th>\n",
       "      <th>UnitName</th>\n",
       "      <th>UnitFlag</th>\n",
       "      <th>Municipality</th>\n",
       "      <th>CompletionDate</th>\n",
       "      <th>Agent</th>\n",
       "      <th>_Max`Prod`(BOE)</th>\n",
       "      <th>_Fracture`Stages</th>\n",
       "      <th>_Open`Hole</th>\n",
       "      <th>_Completion`Events</th>\n",
       "    </tr>\n",
       "  </thead>\n",
       "  <tbody>\n",
       "    <tr>\n",
       "      <td>0</td>\n",
       "      <td>2613166</td>\n",
       "      <td>Alberta</td>\n",
       "      <td>0489475</td>\n",
       "      <td>100080908107W600</td>\n",
       "      <td>Tourmaline Oil Corp.</td>\n",
       "      <td>1312</td>\n",
       "      <td>NaN</td>\n",
       "      <td>Tourmaline Oil Corp.</td>\n",
       "      <td>1312</td>\n",
       "      <td>NaN</td>\n",
       "      <td>...</td>\n",
       "      <td>NaN</td>\n",
       "      <td>NaN</td>\n",
       "      <td>No</td>\n",
       "      <td>NaN</td>\n",
       "      <td>NaN</td>\n",
       "      <td>Unspecified</td>\n",
       "      <td>323.102814</td>\n",
       "      <td>NaN</td>\n",
       "      <td>CasedCompleted</td>\n",
       "      <td>NaN</td>\n",
       "    </tr>\n",
       "    <tr>\n",
       "      <td>1</td>\n",
       "      <td>1138968</td>\n",
       "      <td>Saskatchewan</td>\n",
       "      <td>84J179</td>\n",
       "      <td>111061201929W302</td>\n",
       "      <td>Canadian Natural Resources</td>\n",
       "      <td>159</td>\n",
       "      <td>50449.0</td>\n",
       "      <td>Canadian Natural Resources Limited</td>\n",
       "      <td>159</td>\n",
       "      <td>NaN</td>\n",
       "      <td>...</td>\n",
       "      <td>NaN</td>\n",
       "      <td>NaN</td>\n",
       "      <td>No</td>\n",
       "      <td>Deer Forks</td>\n",
       "      <td>10/26/1984 12:00:00 AM</td>\n",
       "      <td>Not Available</td>\n",
       "      <td>0.627818</td>\n",
       "      <td>NaN</td>\n",
       "      <td>CasedCompleted</td>\n",
       "      <td>NaN</td>\n",
       "    </tr>\n",
       "  </tbody>\n",
       "</table>\n",
       "<p>2 rows × 90 columns</p>\n",
       "</div>"
      ],
      "text/plain": [
       "   EPAssetsId      Province LicenceNumber               UWI  \\\n",
       "0     2613166       Alberta       0489475  100080908107W600   \n",
       "1     1138968  Saskatchewan        84J179  111061201929W302   \n",
       "\n",
       "              CurrentOperator  CurrentOperatorParent  CurrentOperatorID  \\\n",
       "0        Tourmaline Oil Corp.                   1312                NaN   \n",
       "1  Canadian Natural Resources                    159            50449.0   \n",
       "\n",
       "                             Licensee  LicenseeParentCompany  LicenseeID  ...  \\\n",
       "0                Tourmaline Oil Corp.                   1312         NaN  ...   \n",
       "1  Canadian Natural Resources Limited                    159         NaN  ...   \n",
       "\n",
       "  UnitID UnitName UnitFlag Municipality          CompletionDate  \\\n",
       "0    NaN      NaN       No          NaN                     NaN   \n",
       "1    NaN      NaN       No   Deer Forks  10/26/1984 12:00:00 AM   \n",
       "\n",
       "           Agent _Max`Prod`(BOE) _Fracture`Stages      _Open`Hole  \\\n",
       "0    Unspecified      323.102814              NaN  CasedCompleted   \n",
       "1  Not Available        0.627818              NaN  CasedCompleted   \n",
       "\n",
       "  _Completion`Events  \n",
       "0                NaN  \n",
       "1                NaN  \n",
       "\n",
       "[2 rows x 90 columns]"
      ]
     },
     "execution_count": 13,
     "metadata": {},
     "output_type": "execute_result"
    }
   ],
   "source": [
    "df_reg_header_validation.head(2)"
   ]
  },
  {
   "cell_type": "code",
   "execution_count": 14,
   "metadata": {
    "colab": {
     "base_uri": "https://localhost:8080/",
     "height": 1000
    },
    "colab_type": "code",
    "collapsed": true,
    "id": "IhvXfu3XGH_O",
    "outputId": "643c0a48-b5c7-486d-8a76-8eb66f397f5c"
   },
   "outputs": [
    {
     "data": {
      "text/plain": [
       "[['EPAssetsId', 'EPAssetsId', 'EPAssetsId'],\n",
       " ['Province', 'Province', 'Province'],\n",
       " ['LicenceNumber', 'LicenceNumber', 'LicenceNumber'],\n",
       " ['UWI', 'UWI', 'UWI'],\n",
       " ['CurrentOperator', 'CurrentOperator', 'CurrentOperator'],\n",
       " ['CurrentOperatorParent', 'CurrentOperatorParent', 'CurrentOperatorParent'],\n",
       " ['CurrentOperatorID', 'CurrentOperatorID', 'CurrentOperatorID'],\n",
       " ['Licensee', 'Licensee', 'Licensee'],\n",
       " ['LicenseeParentCompany', 'LicenseeParentCompany', 'LicenseeParentCompany'],\n",
       " ['LicenseeID', 'LicenseeID', 'LicenseeID'],\n",
       " ['LicenceDate', 'LicenceDate', 'LicenceDate'],\n",
       " ['WellType', 'WellType', 'WellType'],\n",
       " ['WellTypeStandardised', 'WellTypeStandardised', 'WellTypeStandardised'],\n",
       " ['ConfidentialReleaseDate',\n",
       "  'ConfidentialReleaseDate',\n",
       "  'ConfidentialReleaseDate'],\n",
       " ['SurfAbandonDate', 'SurfAbandonDate', 'SurfAbandonDate'],\n",
       " ['WellName', 'WellName', 'WellName'],\n",
       " ['WellNameAmended', 'WellNameAmended', 'WellNameAmended'],\n",
       " ['Formation', 'Formation', 'Formation'],\n",
       " ['Field', 'Field', 'Field'],\n",
       " ['Pool', 'Pool', 'Pool'],\n",
       " ['SurveySystem', 'SurveySystem', 'SurveySystem'],\n",
       " ['Surf_Location', 'Surf_Location', 'Surf_Location'],\n",
       " ['Surf_Township', 'Surf_Township', 'Surf_Township'],\n",
       " ['Surf_Meridian', 'Surf_Meridian', 'Surf_Meridian'],\n",
       " ['Surf_Range', 'Surf_Range', 'Surf_Range'],\n",
       " ['Surf_Section', 'Surf_Section', 'Surf_Section'],\n",
       " ['Surf_LSD', 'Surf_LSD', 'Surf_LSD'],\n",
       " ['Surf_Longitude', 'Surf_Longitude', 'Surf_Longitude'],\n",
       " ['Surf_Latitude', 'Surf_Latitude', 'Surf_Latitude'],\n",
       " ['Surf_TownshipRange', 'Surf_TownshipRange', 'Surf_TownshipRange'],\n",
       " ['Surf_QuarterUnit', 'Surf_QuarterUnit', 'Surf_QuarterUnit'],\n",
       " ['Surf_Unit', 'Surf_Unit', 'Surf_Unit'],\n",
       " ['Surf_Block', 'Surf_Block', 'Surf_Block'],\n",
       " ['Surf_NTSMapSheet', 'Surf_NTSMapSheet', 'Surf_NTSMapSheet'],\n",
       " ['Surf_Series', 'Surf_Series', 'Surf_Series'],\n",
       " ['Surf_Area', 'Surf_Area', 'Surf_Area'],\n",
       " ['Surf_Sheet', 'Surf_Sheet', 'Surf_Sheet'],\n",
       " ['Surf_QuarterSection', 'Surf_QuarterSection', 'Surf_QuarterSection'],\n",
       " ['BH_Location', 'BH_Location', 'BH_Location'],\n",
       " ['BH_TownshipRange', 'BH_TownshipRange', 'BH_TownshipRange'],\n",
       " ['BH_QuarterUnit', 'BH_QuarterUnit', 'BH_QuarterUnit'],\n",
       " ['BH_Unit', 'BH_Unit', 'BH_Unit'],\n",
       " ['BH_Block', 'BH_Block', 'BH_Block'],\n",
       " ['BH_NTSMapSheet', 'BH_NTSMapSheet', 'BH_NTSMapSheet'],\n",
       " ['BH_Series', 'BH_Series', 'BH_Series'],\n",
       " ['BH_Area', 'BH_Area', 'BH_Area'],\n",
       " ['BH_Sheet', 'BH_Sheet', 'BH_Sheet'],\n",
       " ['BH_QuarterSection', 'BH_QuarterSection', 'BH_QuarterSection'],\n",
       " ['BH_Longitude', 'BH_Longitude', 'BH_Longitude'],\n",
       " ['BH_Latitude', 'BH_Latitude', 'BH_Latitude'],\n",
       " ['BH_Township', 'BH_Township', 'BH_Township'],\n",
       " ['BH_Meridian', 'BH_Meridian', 'BH_Meridian'],\n",
       " ['BH_Range', 'BH_Range', 'BH_Range'],\n",
       " ['BH_Section', 'BH_Section', 'BH_Section'],\n",
       " ['BH_LSD', 'BH_LSD', 'BH_LSD'],\n",
       " ['GroundElevation', 'GroundElevation', 'GroundElevation'],\n",
       " ['KBElevation', 'KBElevation', 'KBElevation'],\n",
       " ['TotalDepth', 'TotalDepth', 'TotalDepth'],\n",
       " ['LaheeClass', 'LaheeClass', 'LaheeClass'],\n",
       " ['Confidential', 'Confidential', 'Confidential'],\n",
       " ['SurfaceOwner', 'SurfaceOwner', 'SurfaceOwner'],\n",
       " ['OSArea', 'OSArea', 'OSArea'],\n",
       " ['OSDeposit', 'OSDeposit', 'OSDeposit'],\n",
       " ['DrillingContractor', 'DrillingContractor', 'DrillingContractor'],\n",
       " ['SpudDate', 'SpudDate', 'SpudDate'],\n",
       " ['FinalDrillDate', 'FinalDrillDate', 'FinalDrillDate'],\n",
       " ['RigReleaseDate', 'RigReleaseDate', 'RigReleaseDate'],\n",
       " ['DaysDrilling', 'DaysDrilling', 'DaysDrilling'],\n",
       " ['DrillMetresPerDay', 'DrillMetresPerDay', 'DrillMetresPerDay'],\n",
       " ['TVD', 'TVD', 'TVD'],\n",
       " ['WellProfile', 'WellProfile', 'WellProfile'],\n",
       " ['WellSymbPt1', 'WellSymbPt1', 'WellSymbPt1'],\n",
       " ['Country', 'Country', 'Country'],\n",
       " ['RegulatoryAgency', 'RegulatoryAgency', 'RegulatoryAgency'],\n",
       " ['NumberofWells', 'NumberofWells', 'NumberofWells'],\n",
       " ['PSACAreaCode', 'PSACAreaCode', 'PSACAreaCode'],\n",
       " ['PSACAreaName', 'PSACAreaName', 'PSACAreaName'],\n",
       " ['ProjectedDepth', 'ProjectedDepth', 'ProjectedDepth'],\n",
       " ['StatusDate', 'StatusDate', 'StatusDate'],\n",
       " ['StatusSource', 'StatusSource', 'StatusSource'],\n",
       " ['UnitID', 'UnitID', 'UnitID'],\n",
       " ['UnitName', 'UnitName', 'UnitName'],\n",
       " ['UnitFlag', 'UnitFlag', 'UnitFlag'],\n",
       " ['Municipality', 'Municipality', 'Municipality'],\n",
       " ['CompletionDate', 'CompletionDate', 'CompletionDate'],\n",
       " ['Agent', 'Agent', 'Agent'],\n",
       " ['_Max`Prod`(BOE)', '_Max`Prod`(BOE)', '_Max`Prod`(BOE)'],\n",
       " ['_Fracture`Stages', '_Fracture`Stages', '_Fracture`Stages'],\n",
       " ['_Open`Hole', '_Open`Hole', '_Open`Hole'],\n",
       " ['_Completion`Events', '_Completion`Events', '_Completion`Events']]"
      ]
     },
     "execution_count": 14,
     "metadata": {},
     "output_type": "execute_result"
    }
   ],
   "source": [
    "headers = []\n",
    "for i in range(len(df_reg_header_train.columns)):\n",
    "  headers.append([df_reg_header_train.columns[i],df_reg_header_validation.columns[i],df_reg_header_test.columns[i]])\n",
    "headers"
   ]
  },
  {
   "cell_type": "markdown",
   "metadata": {
    "colab_type": "text",
    "id": "p4n0zkbqCpr5"
   },
   "source": [
    "## Header Test file"
   ]
  },
  {
   "cell_type": "code",
   "execution_count": 15,
   "metadata": {
    "colab": {
     "base_uri": "https://localhost:8080/",
     "height": 32
    },
    "colab_type": "code",
    "id": "JTYs_-e2-Xiz",
    "outputId": "4b5151c6-de5a-4d75-9bd6-c27afb87bb35"
   },
   "outputs": [
    {
     "data": {
      "text/plain": [
       "(118076, 90)"
      ]
     },
     "execution_count": 15,
     "metadata": {},
     "output_type": "execute_result"
    }
   ],
   "source": [
    "df_reg_header_test.shape"
   ]
  },
  {
   "cell_type": "code",
   "execution_count": 16,
   "metadata": {
    "colab": {
     "base_uri": "https://localhost:8080/",
     "height": 1000
    },
    "colab_type": "code",
    "collapsed": true,
    "id": "Y_CVwGbf_li8",
    "outputId": "96b47fb0-33c6-4796-b76f-cb70fd709457"
   },
   "outputs": [
    {
     "data": {
      "text/plain": [
       "EPAssetsId            118076\n",
       "Province                   4\n",
       "LicenceNumber         112547\n",
       "UWI                   116725\n",
       "CurrentOperator          860\n",
       "                       ...  \n",
       "Agent                    356\n",
       "_Max`Prod`(BOE)        21636\n",
       "_Fracture`Stages          89\n",
       "_Open`Hole                 2\n",
       "_Completion`Events       174\n",
       "Length: 90, dtype: int64"
      ]
     },
     "execution_count": 16,
     "metadata": {},
     "output_type": "execute_result"
    }
   ],
   "source": [
    "df_reg_header_test.nunique()"
   ]
  },
  {
   "cell_type": "code",
   "execution_count": 17,
   "metadata": {
    "colab": {
     "base_uri": "https://localhost:8080/",
     "height": 1000
    },
    "colab_type": "code",
    "collapsed": true,
    "id": "vZauxRS4_ult",
    "outputId": "cf08740e-5131-4a7a-f66f-a526ea5f8358"
   },
   "outputs": [
    {
     "name": "stdout",
     "output_type": "stream",
     "text": [
      "<class 'pandas.core.frame.DataFrame'>\n",
      "RangeIndex: 118076 entries, 0 to 118075\n",
      "Data columns (total 90 columns):\n",
      "EPAssetsId                 118076 non-null int64\n",
      "Province                   118076 non-null object\n",
      "LicenceNumber              118076 non-null object\n",
      "UWI                        118076 non-null object\n",
      "CurrentOperator            118076 non-null object\n",
      "CurrentOperatorParent      118076 non-null int64\n",
      "CurrentOperatorID          25138 non-null float64\n",
      "Licensee                   118076 non-null object\n",
      "LicenseeParentCompany      118076 non-null int64\n",
      "LicenseeID                 1667 non-null float64\n",
      "LicenceDate                118074 non-null object\n",
      "WellType                   118076 non-null object\n",
      "WellTypeStandardised       118076 non-null object\n",
      "ConfidentialReleaseDate    62998 non-null object\n",
      "SurfAbandonDate            26822 non-null object\n",
      "WellName                   117976 non-null object\n",
      "WellNameAmended            117976 non-null object\n",
      "Formation                  118076 non-null object\n",
      "Field                      118076 non-null object\n",
      "Pool                       118031 non-null object\n",
      "SurveySystem               118076 non-null object\n",
      "Surf_Location              118014 non-null object\n",
      "Surf_Township              118076 non-null object\n",
      "Surf_Meridian              118076 non-null object\n",
      "Surf_Range                 118076 non-null object\n",
      "Surf_Section               118076 non-null object\n",
      "Surf_LSD                   118076 non-null object\n",
      "Surf_Longitude             118076 non-null float64\n",
      "Surf_Latitude              118075 non-null float64\n",
      "Surf_TownshipRange         118076 non-null object\n",
      "Surf_QuarterUnit           118076 non-null object\n",
      "Surf_Unit                  118076 non-null object\n",
      "Surf_Block                 118076 non-null object\n",
      "Surf_NTSMapSheet           118076 non-null object\n",
      "Surf_Series                118076 non-null object\n",
      "Surf_Area                  118076 non-null object\n",
      "Surf_Sheet                 118076 non-null object\n",
      "Surf_QuarterSection        118076 non-null object\n",
      "BH_Location                118076 non-null object\n",
      "BH_TownshipRange           118076 non-null object\n",
      "BH_QuarterUnit             118075 non-null object\n",
      "BH_Unit                    118075 non-null object\n",
      "BH_Block                   118075 non-null object\n",
      "BH_NTSMapSheet             118076 non-null object\n",
      "BH_Series                  118075 non-null object\n",
      "BH_Area                    118075 non-null object\n",
      "BH_Sheet                   118075 non-null object\n",
      "BH_QuarterSection          111761 non-null object\n",
      "BH_Longitude               111198 non-null float64\n",
      "BH_Latitude                111198 non-null float64\n",
      "BH_Township                118074 non-null object\n",
      "BH_Meridian                118076 non-null object\n",
      "BH_Range                   118074 non-null object\n",
      "BH_Section                 118074 non-null object\n",
      "BH_LSD                     118074 non-null object\n",
      "GroundElevation            118017 non-null float64\n",
      "KBElevation                116054 non-null float64\n",
      "TotalDepth                 116727 non-null float64\n",
      "LaheeClass                 118076 non-null object\n",
      "Confidential               118076 non-null object\n",
      "SurfaceOwner               115971 non-null object\n",
      "OSArea                     111582 non-null object\n",
      "OSDeposit                  111582 non-null object\n",
      "DrillingContractor         117733 non-null object\n",
      "SpudDate                   113070 non-null object\n",
      "FinalDrillDate             107921 non-null object\n",
      "RigReleaseDate             95545 non-null object\n",
      "DaysDrilling               112785 non-null float64\n",
      "DrillMetresPerDay          118070 non-null float64\n",
      "TVD                        110450 non-null float64\n",
      "WellProfile                118076 non-null object\n",
      "WellSymbPt1                118076 non-null object\n",
      "Country                    118076 non-null object\n",
      "RegulatoryAgency           118076 non-null object\n",
      "NumberofWells              118076 non-null int64\n",
      "PSACAreaCode               118076 non-null object\n",
      "PSACAreaName               118076 non-null object\n",
      "ProjectedDepth             84586 non-null float64\n",
      "StatusDate                 118057 non-null object\n",
      "StatusSource               118076 non-null object\n",
      "UnitID                     9312 non-null object\n",
      "UnitName                   9312 non-null object\n",
      "UnitFlag                   111537 non-null object\n",
      "Municipality               24326 non-null object\n",
      "CompletionDate             23871 non-null object\n",
      "Agent                      118076 non-null object\n",
      "_Max`Prod`(BOE)            40188 non-null float64\n",
      "_Fracture`Stages           1595 non-null float64\n",
      "_Open`Hole                 118076 non-null object\n",
      "_Completion`Events         3422 non-null float64\n",
      "dtypes: float64(16), int64(4), object(70)\n",
      "memory usage: 81.1+ MB\n"
     ]
    }
   ],
   "source": [
    "df_reg_header_test.info()"
   ]
  },
  {
   "cell_type": "markdown",
   "metadata": {
    "colab_type": "text",
    "id": "IhmMKQ7pCwQy"
   },
   "source": [
    "## Header Validation File"
   ]
  },
  {
   "cell_type": "code",
   "execution_count": 18,
   "metadata": {
    "colab": {
     "base_uri": "https://localhost:8080/",
     "height": 32
    },
    "colab_type": "code",
    "id": "FZldOP4lC_R3",
    "outputId": "6d488bd2-edeb-4193-c121-5dcd708243f9"
   },
   "outputs": [
    {
     "data": {
      "text/plain": [
       "(132131, 90)"
      ]
     },
     "execution_count": 18,
     "metadata": {},
     "output_type": "execute_result"
    }
   ],
   "source": [
    "df_reg_header_validation.shape"
   ]
  },
  {
   "cell_type": "code",
   "execution_count": 19,
   "metadata": {
    "colab": {
     "base_uri": "https://localhost:8080/",
     "height": 1000
    },
    "colab_type": "code",
    "collapsed": true,
    "id": "kpBMMD2eCir_",
    "outputId": "86f11ad1-b1f3-437d-a460-971ea4df0d86"
   },
   "outputs": [
    {
     "data": {
      "text/plain": [
       "EPAssetsId            132131\n",
       "Province                   4\n",
       "LicenceNumber         125962\n",
       "UWI                   130765\n",
       "CurrentOperator          913\n",
       "                       ...  \n",
       "Agent                    439\n",
       "_Max`Prod`(BOE)        21560\n",
       "_Fracture`Stages          86\n",
       "_Open`Hole                 2\n",
       "_Completion`Events       170\n",
       "Length: 90, dtype: int64"
      ]
     },
     "execution_count": 19,
     "metadata": {},
     "output_type": "execute_result"
    }
   ],
   "source": [
    "df_reg_header_validation.nunique()"
   ]
  },
  {
   "cell_type": "code",
   "execution_count": 20,
   "metadata": {
    "colab": {
     "base_uri": "https://localhost:8080/",
     "height": 1000
    },
    "colab_type": "code",
    "collapsed": true,
    "id": "va4eYYoyCisF",
    "outputId": "370ae5ea-cdac-43c1-ec63-c8d90441907b"
   },
   "outputs": [
    {
     "name": "stdout",
     "output_type": "stream",
     "text": [
      "<class 'pandas.core.frame.DataFrame'>\n",
      "RangeIndex: 132131 entries, 0 to 132130\n",
      "Data columns (total 90 columns):\n",
      "EPAssetsId                 132131 non-null int64\n",
      "Province                   132131 non-null object\n",
      "LicenceNumber              132131 non-null object\n",
      "UWI                        132130 non-null object\n",
      "CurrentOperator            132131 non-null object\n",
      "CurrentOperatorParent      132131 non-null int64\n",
      "CurrentOperatorID          27993 non-null float64\n",
      "Licensee                   132131 non-null object\n",
      "LicenseeParentCompany      132131 non-null int64\n",
      "LicenseeID                 2031 non-null float64\n",
      "LicenceDate                132126 non-null object\n",
      "WellType                   132131 non-null object\n",
      "WellTypeStandardised       132131 non-null object\n",
      "ConfidentialReleaseDate    69272 non-null object\n",
      "SurfAbandonDate            35942 non-null object\n",
      "WellName                   132034 non-null object\n",
      "WellNameAmended            132034 non-null object\n",
      "Formation                  132131 non-null object\n",
      "Field                      132131 non-null object\n",
      "Pool                       132086 non-null object\n",
      "SurveySystem               132131 non-null object\n",
      "Surf_Location              132066 non-null object\n",
      "Surf_Township              132131 non-null object\n",
      "Surf_Meridian              132131 non-null object\n",
      "Surf_Range                 132131 non-null object\n",
      "Surf_Section               132131 non-null object\n",
      "Surf_LSD                   132131 non-null object\n",
      "Surf_Longitude             132131 non-null float64\n",
      "Surf_Latitude              132131 non-null float64\n",
      "Surf_TownshipRange         132131 non-null object\n",
      "Surf_QuarterUnit           132131 non-null object\n",
      "Surf_Unit                  132131 non-null object\n",
      "Surf_Block                 132131 non-null object\n",
      "Surf_NTSMapSheet           132131 non-null object\n",
      "Surf_Series                132131 non-null object\n",
      "Surf_Area                  132131 non-null object\n",
      "Surf_Sheet                 132131 non-null object\n",
      "Surf_QuarterSection        132131 non-null object\n",
      "BH_Location                132131 non-null object\n",
      "BH_TownshipRange           132131 non-null object\n",
      "BH_QuarterUnit             132131 non-null object\n",
      "BH_Unit                    132131 non-null object\n",
      "BH_Block                   132131 non-null object\n",
      "BH_NTSMapSheet             132131 non-null object\n",
      "BH_Series                  132131 non-null object\n",
      "BH_Area                    132131 non-null object\n",
      "BH_Sheet                   132131 non-null object\n",
      "BH_QuarterSection          125660 non-null object\n",
      "BH_Longitude               125082 non-null float64\n",
      "BH_Latitude                125082 non-null float64\n",
      "BH_Township                132130 non-null object\n",
      "BH_Meridian                132130 non-null object\n",
      "BH_Range                   132130 non-null object\n",
      "BH_Section                 132130 non-null object\n",
      "BH_LSD                     132130 non-null object\n",
      "GroundElevation            132063 non-null float64\n",
      "KBElevation                130049 non-null float64\n",
      "TotalDepth                 130804 non-null float64\n",
      "LaheeClass                 132131 non-null object\n",
      "Confidential               132131 non-null object\n",
      "SurfaceOwner               129623 non-null object\n",
      "OSArea                     125492 non-null object\n",
      "OSDeposit                  125492 non-null object\n",
      "DrillingContractor         131793 non-null object\n",
      "SpudDate                   126993 non-null object\n",
      "FinalDrillDate             121664 non-null object\n",
      "RigReleaseDate             103043 non-null object\n",
      "DaysDrilling               126724 non-null float64\n",
      "DrillMetresPerDay          132123 non-null float64\n",
      "TVD                        124373 non-null float64\n",
      "WellProfile                132131 non-null object\n",
      "WellSymbPt1                132131 non-null object\n",
      "Country                    132131 non-null object\n",
      "RegulatoryAgency           132131 non-null object\n",
      "NumberofWells              132131 non-null int64\n",
      "PSACAreaCode               132131 non-null object\n",
      "PSACAreaName               132131 non-null object\n",
      "ProjectedDepth             88458 non-null float64\n",
      "StatusDate                 132108 non-null object\n",
      "StatusSource               132131 non-null object\n",
      "UnitID                     9794 non-null object\n",
      "UnitName                   9794 non-null object\n",
      "UnitFlag                   125445 non-null object\n",
      "Municipality               25908 non-null object\n",
      "CompletionDate             24530 non-null object\n",
      "Agent                      132131 non-null object\n",
      "_Max`Prod`(BOE)            40211 non-null float64\n",
      "_Fracture`Stages           1630 non-null float64\n",
      "_Open`Hole                 132131 non-null object\n",
      "_Completion`Events         3487 non-null float64\n",
      "dtypes: float64(16), int64(4), object(70)\n",
      "memory usage: 90.7+ MB\n"
     ]
    }
   ],
   "source": [
    "df_reg_header_validation.info()"
   ]
  },
  {
   "cell_type": "code",
   "execution_count": null,
   "metadata": {
    "colab": {},
    "colab_type": "code",
    "id": "nXN1-IUIDEMT"
   },
   "outputs": [],
   "source": []
  },
  {
   "cell_type": "markdown",
   "metadata": {
    "colab_type": "text",
    "id": "Owlx38y3DHaF"
   },
   "source": [
    "## Header train File"
   ]
  },
  {
   "cell_type": "code",
   "execution_count": 21,
   "metadata": {
    "colab": {
     "base_uri": "https://localhost:8080/",
     "height": 32
    },
    "colab_type": "code",
    "id": "P2k0_pMsDHaH",
    "outputId": "e2105f12-7a61-4e9c-b4f5-1b6251e19c91"
   },
   "outputs": [
    {
     "data": {
      "text/plain": [
       "(588673, 90)"
      ]
     },
     "execution_count": 21,
     "metadata": {},
     "output_type": "execute_result"
    }
   ],
   "source": [
    "df_reg_header_train.shape"
   ]
  },
  {
   "cell_type": "code",
   "execution_count": 22,
   "metadata": {
    "colab": {
     "base_uri": "https://localhost:8080/",
     "height": 1000
    },
    "colab_type": "code",
    "collapsed": true,
    "id": "nG7Y2pd7DHaL",
    "outputId": "5d5aaa42-70a7-40a5-9db8-e14f11b6e497"
   },
   "outputs": [
    {
     "data": {
      "text/plain": [
       "EPAssetsId            588673\n",
       "Province                   4\n",
       "LicenceNumber         485571\n",
       "UWI                   582171\n",
       "CurrentOperator         1468\n",
       "                       ...  \n",
       "Agent                    929\n",
       "_Max`Prod`(BOE)        86073\n",
       "_Fracture`Stages         131\n",
       "_Open`Hole                 2\n",
       "_Completion`Events       305\n",
       "Length: 90, dtype: int64"
      ]
     },
     "execution_count": 22,
     "metadata": {},
     "output_type": "execute_result"
    }
   ],
   "source": [
    "df_reg_header_train.nunique()"
   ]
  },
  {
   "cell_type": "code",
   "execution_count": 23,
   "metadata": {
    "colab": {
     "base_uri": "https://localhost:8080/",
     "height": 1000
    },
    "colab_type": "code",
    "collapsed": true,
    "id": "-NnSuenTDHaO",
    "outputId": "b6032690-cca4-4611-9ece-af1c784f31a3"
   },
   "outputs": [
    {
     "name": "stdout",
     "output_type": "stream",
     "text": [
      "<class 'pandas.core.frame.DataFrame'>\n",
      "RangeIndex: 588673 entries, 0 to 588672\n",
      "Data columns (total 90 columns):\n",
      "EPAssetsId                 588673 non-null int64\n",
      "Province                   588673 non-null object\n",
      "LicenceNumber              588673 non-null object\n",
      "UWI                        588673 non-null object\n",
      "CurrentOperator            588673 non-null object\n",
      "CurrentOperatorParent      588673 non-null int64\n",
      "CurrentOperatorID          124038 non-null float64\n",
      "Licensee                   588673 non-null object\n",
      "LicenseeParentCompany      588673 non-null int64\n",
      "LicenseeID                 8537 non-null float64\n",
      "LicenceDate                588664 non-null object\n",
      "WellType                   588673 non-null object\n",
      "WellTypeStandardised       588673 non-null object\n",
      "ConfidentialReleaseDate    310703 non-null object\n",
      "SurfAbandonDate            149148 non-null object\n",
      "WellName                   588206 non-null object\n",
      "WellNameAmended            588206 non-null object\n",
      "Formation                  588673 non-null object\n",
      "Field                      588673 non-null object\n",
      "Pool                       588442 non-null object\n",
      "SurveySystem               588673 non-null object\n",
      "Surf_Location              588366 non-null object\n",
      "Surf_Township              588673 non-null object\n",
      "Surf_Meridian              588673 non-null object\n",
      "Surf_Range                 588673 non-null object\n",
      "Surf_Section               588673 non-null object\n",
      "Surf_LSD                   588673 non-null object\n",
      "Surf_Longitude             588673 non-null float64\n",
      "Surf_Latitude              588673 non-null float64\n",
      "Surf_TownshipRange         588673 non-null object\n",
      "Surf_QuarterUnit           588673 non-null object\n",
      "Surf_Unit                  588673 non-null object\n",
      "Surf_Block                 588673 non-null object\n",
      "Surf_NTSMapSheet           588673 non-null object\n",
      "Surf_Series                588673 non-null object\n",
      "Surf_Area                  588673 non-null object\n",
      "Surf_Sheet                 588673 non-null object\n",
      "Surf_QuarterSection        588673 non-null object\n",
      "BH_Location                588673 non-null object\n",
      "BH_TownshipRange           588673 non-null object\n",
      "BH_QuarterUnit             588673 non-null object\n",
      "BH_Unit                    588673 non-null object\n",
      "BH_Block                   588673 non-null object\n",
      "BH_NTSMapSheet             588673 non-null object\n",
      "BH_Series                  588673 non-null object\n",
      "BH_Area                    588673 non-null object\n",
      "BH_Sheet                   588673 non-null object\n",
      "BH_QuarterSection          558395 non-null object\n",
      "BH_Longitude               555782 non-null float64\n",
      "BH_Latitude                555782 non-null float64\n",
      "BH_Township                588668 non-null object\n",
      "BH_Meridian                588673 non-null object\n",
      "BH_Range                   588668 non-null object\n",
      "BH_Section                 588668 non-null object\n",
      "BH_LSD                     588668 non-null object\n",
      "GroundElevation            588371 non-null float64\n",
      "KBElevation                579272 non-null float64\n",
      "TotalDepth                 582541 non-null float64\n",
      "LaheeClass                 588673 non-null object\n",
      "Confidential               588673 non-null object\n",
      "SurfaceOwner               577873 non-null object\n",
      "OSArea                     557634 non-null object\n",
      "OSDeposit                  557634 non-null object\n",
      "DrillingContractor         587108 non-null object\n",
      "SpudDate                   564917 non-null object\n",
      "FinalDrillDate             540114 non-null object\n",
      "RigReleaseDate             465455 non-null object\n",
      "DaysDrilling               563617 non-null float64\n",
      "DrillMetresPerDay          588630 non-null float64\n",
      "TVD                        552435 non-null float64\n",
      "WellProfile                588673 non-null object\n",
      "WellSymbPt1                588673 non-null object\n",
      "Country                    588673 non-null object\n",
      "RegulatoryAgency           588673 non-null object\n",
      "NumberofWells              588673 non-null int64\n",
      "PSACAreaCode               588673 non-null object\n",
      "PSACAreaName               588673 non-null object\n",
      "ProjectedDepth             404812 non-null float64\n",
      "StatusDate                 588603 non-null object\n",
      "StatusSource               588673 non-null object\n",
      "UnitID                     44299 non-null object\n",
      "UnitName                   44299 non-null object\n",
      "UnitFlag                   557380 non-null object\n",
      "Municipality               116651 non-null object\n",
      "CompletionDate             113144 non-null object\n",
      "Agent                      588673 non-null object\n",
      "_Max`Prod`(BOE)            187602 non-null float64\n",
      "_Fracture`Stages           7685 non-null float64\n",
      "_Open`Hole                 588673 non-null object\n",
      "_Completion`Events         16329 non-null float64\n",
      "dtypes: float64(16), int64(4), object(70)\n",
      "memory usage: 404.2+ MB\n"
     ]
    }
   ],
   "source": [
    "df_reg_header_train.info()"
   ]
  },
  {
   "cell_type": "code",
   "execution_count": null,
   "metadata": {
    "colab": {},
    "colab_type": "code",
    "id": "433Qo8-CDHaQ"
   },
   "outputs": [],
   "source": []
  },
  {
   "cell_type": "markdown",
   "metadata": {
    "colab_type": "text",
    "id": "lxKtsZAPDRVU"
   },
   "source": [
    "## Viking train File"
   ]
  },
  {
   "cell_type": "code",
   "execution_count": 24,
   "metadata": {
    "colab": {
     "base_uri": "https://localhost:8080/",
     "height": 32
    },
    "colab_type": "code",
    "id": "Xy7ysRNGDRVV",
    "outputId": "a31b4b91-4ed9-47ed-c106-0f861be8bc2a"
   },
   "outputs": [
    {
     "data": {
      "text/plain": [
       "(6256, 6)"
      ]
     },
     "execution_count": 24,
     "metadata": {},
     "output_type": "execute_result"
    }
   ],
   "source": [
    "df_reg_viking_train.shape"
   ]
  },
  {
   "cell_type": "code",
   "execution_count": 25,
   "metadata": {
    "colab": {
     "base_uri": "https://localhost:8080/",
     "height": 131
    },
    "colab_type": "code",
    "collapsed": true,
    "id": "zi9UNY2oDRVY",
    "outputId": "5e0fae4c-5670-4ab8-ca0c-d38b455df8ed"
   },
   "outputs": [
    {
     "data": {
      "text/plain": [
       "EPAssetsId                       6256\n",
       "UWI                              6256\n",
       "_Normalized`IP`BOE/d             6253\n",
       "_Normalized`IP`(Oil`-`Bbls)      5764\n",
       "_Normalized`IP`Gas`(Boe/d)       6022\n",
       "_Normalized`IP`(Water`-`Bbls)    3603\n",
       "dtype: int64"
      ]
     },
     "execution_count": 25,
     "metadata": {},
     "output_type": "execute_result"
    }
   ],
   "source": [
    "df_reg_viking_train.nunique()"
   ]
  },
  {
   "cell_type": "code",
   "execution_count": 26,
   "metadata": {
    "colab": {
     "base_uri": "https://localhost:8080/",
     "height": 197
    },
    "colab_type": "code",
    "collapsed": true,
    "id": "TT8YwhiFDRVa",
    "outputId": "616df26e-7f65-4cc5-8e84-a5b6c20ed8f6"
   },
   "outputs": [
    {
     "name": "stdout",
     "output_type": "stream",
     "text": [
      "<class 'pandas.core.frame.DataFrame'>\n",
      "RangeIndex: 6256 entries, 0 to 6255\n",
      "Data columns (total 6 columns):\n",
      "EPAssetsId                       6256 non-null int64\n",
      "UWI                              6256 non-null object\n",
      "_Normalized`IP`BOE/d             6255 non-null float64\n",
      "_Normalized`IP`(Oil`-`Bbls)      6188 non-null float64\n",
      "_Normalized`IP`Gas`(Boe/d)       6226 non-null float64\n",
      "_Normalized`IP`(Water`-`Bbls)    4715 non-null float64\n",
      "dtypes: float64(4), int64(1), object(1)\n",
      "memory usage: 293.4+ KB\n"
     ]
    }
   ],
   "source": [
    "df_reg_viking_train.info()"
   ]
  },
  {
   "cell_type": "code",
   "execution_count": 27,
   "metadata": {
    "colab": {
     "base_uri": "https://localhost:8080/",
     "height": 1000
    },
    "colab_type": "code",
    "collapsed": true,
    "id": "P_QAYShcDRVc",
    "outputId": "ca0fb9d4-6bc8-48ad-c8be-5673f764d811"
   },
   "outputs": [
    {
     "data": {
      "text/html": [
       "<div>\n",
       "<style scoped>\n",
       "    .dataframe tbody tr th:only-of-type {\n",
       "        vertical-align: middle;\n",
       "    }\n",
       "\n",
       "    .dataframe tbody tr th {\n",
       "        vertical-align: top;\n",
       "    }\n",
       "\n",
       "    .dataframe thead th {\n",
       "        text-align: right;\n",
       "    }\n",
       "</style>\n",
       "<table border=\"1\" class=\"dataframe\">\n",
       "  <thead>\n",
       "    <tr style=\"text-align: right;\">\n",
       "      <th></th>\n",
       "      <th>EPAssetsId</th>\n",
       "      <th>UWI</th>\n",
       "      <th>_Normalized`IP`BOE/d</th>\n",
       "      <th>_Normalized`IP`(Oil`-`Bbls)</th>\n",
       "      <th>_Normalized`IP`Gas`(Boe/d)</th>\n",
       "      <th>_Normalized`IP`(Water`-`Bbls)</th>\n",
       "    </tr>\n",
       "  </thead>\n",
       "  <tbody>\n",
       "    <tr>\n",
       "      <td>0</td>\n",
       "      <td>2600565</td>\n",
       "      <td>100010303502W400</td>\n",
       "      <td>39.572937</td>\n",
       "      <td>25.384235</td>\n",
       "      <td>14.188702</td>\n",
       "      <td>NaN</td>\n",
       "    </tr>\n",
       "    <tr>\n",
       "      <td>1</td>\n",
       "      <td>2596704</td>\n",
       "      <td>100032903508W400</td>\n",
       "      <td>51.604687</td>\n",
       "      <td>41.061911</td>\n",
       "      <td>10.542776</td>\n",
       "      <td>NaN</td>\n",
       "    </tr>\n",
       "    <tr>\n",
       "      <td>2</td>\n",
       "      <td>2605931</td>\n",
       "      <td>100130303504W400</td>\n",
       "      <td>34.712815</td>\n",
       "      <td>17.344473</td>\n",
       "      <td>17.368342</td>\n",
       "      <td>NaN</td>\n",
       "    </tr>\n",
       "    <tr>\n",
       "      <td>3</td>\n",
       "      <td>1167486</td>\n",
       "      <td>101093102926W300</td>\n",
       "      <td>18.243091</td>\n",
       "      <td>17.986731</td>\n",
       "      <td>0.256359</td>\n",
       "      <td>NaN</td>\n",
       "    </tr>\n",
       "    <tr>\n",
       "      <td>4</td>\n",
       "      <td>1163017</td>\n",
       "      <td>101023502926W300</td>\n",
       "      <td>31.348512</td>\n",
       "      <td>28.123094</td>\n",
       "      <td>3.225418</td>\n",
       "      <td>NaN</td>\n",
       "    </tr>\n",
       "    <tr>\n",
       "      <td>5</td>\n",
       "      <td>1151629</td>\n",
       "      <td>192063203019W300</td>\n",
       "      <td>34.136233</td>\n",
       "      <td>33.099024</td>\n",
       "      <td>1.037208</td>\n",
       "      <td>NaN</td>\n",
       "    </tr>\n",
       "    <tr>\n",
       "      <td>6</td>\n",
       "      <td>2613054</td>\n",
       "      <td>103123203408W400</td>\n",
       "      <td>24.459689</td>\n",
       "      <td>21.395803</td>\n",
       "      <td>3.063886</td>\n",
       "      <td>NaN</td>\n",
       "    </tr>\n",
       "    <tr>\n",
       "      <td>7</td>\n",
       "      <td>1152209</td>\n",
       "      <td>191071803227W300</td>\n",
       "      <td>43.766049</td>\n",
       "      <td>24.240889</td>\n",
       "      <td>19.525160</td>\n",
       "      <td>NaN</td>\n",
       "    </tr>\n",
       "    <tr>\n",
       "      <td>8</td>\n",
       "      <td>1170236</td>\n",
       "      <td>101141303020W300</td>\n",
       "      <td>9.285127</td>\n",
       "      <td>9.040539</td>\n",
       "      <td>0.244588</td>\n",
       "      <td>NaN</td>\n",
       "    </tr>\n",
       "    <tr>\n",
       "      <td>9</td>\n",
       "      <td>1148254</td>\n",
       "      <td>191012503323W300</td>\n",
       "      <td>9.261979</td>\n",
       "      <td>8.333985</td>\n",
       "      <td>0.927994</td>\n",
       "      <td>NaN</td>\n",
       "    </tr>\n",
       "    <tr>\n",
       "      <td>10</td>\n",
       "      <td>1164104</td>\n",
       "      <td>101151403223W300</td>\n",
       "      <td>13.747200</td>\n",
       "      <td>8.134109</td>\n",
       "      <td>5.613091</td>\n",
       "      <td>NaN</td>\n",
       "    </tr>\n",
       "    <tr>\n",
       "      <td>11</td>\n",
       "      <td>1160917</td>\n",
       "      <td>101163102619W300</td>\n",
       "      <td>36.793610</td>\n",
       "      <td>34.966396</td>\n",
       "      <td>1.827214</td>\n",
       "      <td>NaN</td>\n",
       "    </tr>\n",
       "    <tr>\n",
       "      <td>12</td>\n",
       "      <td>2596763</td>\n",
       "      <td>102041505621W400</td>\n",
       "      <td>5.100642</td>\n",
       "      <td>4.514679</td>\n",
       "      <td>0.585964</td>\n",
       "      <td>NaN</td>\n",
       "    </tr>\n",
       "    <tr>\n",
       "      <td>13</td>\n",
       "      <td>2595446</td>\n",
       "      <td>102043605622W400</td>\n",
       "      <td>16.799890</td>\n",
       "      <td>15.270237</td>\n",
       "      <td>1.529654</td>\n",
       "      <td>NaN</td>\n",
       "    </tr>\n",
       "    <tr>\n",
       "      <td>14</td>\n",
       "      <td>2596829</td>\n",
       "      <td>102081205823W400</td>\n",
       "      <td>3.111268</td>\n",
       "      <td>1.766036</td>\n",
       "      <td>1.345232</td>\n",
       "      <td>NaN</td>\n",
       "    </tr>\n",
       "    <tr>\n",
       "      <td>15</td>\n",
       "      <td>1145971</td>\n",
       "      <td>191082602518W300</td>\n",
       "      <td>10.120451</td>\n",
       "      <td>9.216654</td>\n",
       "      <td>0.903797</td>\n",
       "      <td>NaN</td>\n",
       "    </tr>\n",
       "    <tr>\n",
       "      <td>16</td>\n",
       "      <td>2581711</td>\n",
       "      <td>102133203201W400</td>\n",
       "      <td>48.075173</td>\n",
       "      <td>24.771329</td>\n",
       "      <td>23.303844</td>\n",
       "      <td>NaN</td>\n",
       "    </tr>\n",
       "    <tr>\n",
       "      <td>17</td>\n",
       "      <td>1165816</td>\n",
       "      <td>103073003219W300</td>\n",
       "      <td>11.449882</td>\n",
       "      <td>7.270310</td>\n",
       "      <td>4.179572</td>\n",
       "      <td>NaN</td>\n",
       "    </tr>\n",
       "    <tr>\n",
       "      <td>18</td>\n",
       "      <td>1167894</td>\n",
       "      <td>103162203019W300</td>\n",
       "      <td>19.603046</td>\n",
       "      <td>19.254476</td>\n",
       "      <td>0.348570</td>\n",
       "      <td>NaN</td>\n",
       "    </tr>\n",
       "    <tr>\n",
       "      <td>19</td>\n",
       "      <td>1019118</td>\n",
       "      <td>191011203320W300</td>\n",
       "      <td>15.283504</td>\n",
       "      <td>13.837560</td>\n",
       "      <td>1.445944</td>\n",
       "      <td>NaN</td>\n",
       "    </tr>\n",
       "    <tr>\n",
       "      <td>20</td>\n",
       "      <td>1146752</td>\n",
       "      <td>191020502614W300</td>\n",
       "      <td>4.998548</td>\n",
       "      <td>4.829169</td>\n",
       "      <td>0.169380</td>\n",
       "      <td>NaN</td>\n",
       "    </tr>\n",
       "    <tr>\n",
       "      <td>21</td>\n",
       "      <td>1145580</td>\n",
       "      <td>191022803227W300</td>\n",
       "      <td>16.095800</td>\n",
       "      <td>4.186211</td>\n",
       "      <td>11.909589</td>\n",
       "      <td>NaN</td>\n",
       "    </tr>\n",
       "    <tr>\n",
       "      <td>22</td>\n",
       "      <td>1146768</td>\n",
       "      <td>191140102618W300</td>\n",
       "      <td>21.965936</td>\n",
       "      <td>19.174106</td>\n",
       "      <td>2.791831</td>\n",
       "      <td>NaN</td>\n",
       "    </tr>\n",
       "    <tr>\n",
       "      <td>23</td>\n",
       "      <td>1078138</td>\n",
       "      <td>191111903120W300</td>\n",
       "      <td>1.902684</td>\n",
       "      <td>1.134261</td>\n",
       "      <td>0.768423</td>\n",
       "      <td>NaN</td>\n",
       "    </tr>\n",
       "    <tr>\n",
       "      <td>24</td>\n",
       "      <td>1078400</td>\n",
       "      <td>191132503220W300</td>\n",
       "      <td>5.241910</td>\n",
       "      <td>2.488664</td>\n",
       "      <td>2.753246</td>\n",
       "      <td>NaN</td>\n",
       "    </tr>\n",
       "    <tr>\n",
       "      <td>25</td>\n",
       "      <td>1149177</td>\n",
       "      <td>192070203424W300</td>\n",
       "      <td>14.714038</td>\n",
       "      <td>13.870407</td>\n",
       "      <td>0.843631</td>\n",
       "      <td>NaN</td>\n",
       "    </tr>\n",
       "    <tr>\n",
       "      <td>26</td>\n",
       "      <td>1160511</td>\n",
       "      <td>101082302619W300</td>\n",
       "      <td>23.926650</td>\n",
       "      <td>21.843078</td>\n",
       "      <td>2.083573</td>\n",
       "      <td>NaN</td>\n",
       "    </tr>\n",
       "    <tr>\n",
       "      <td>27</td>\n",
       "      <td>1147505</td>\n",
       "      <td>191142103228W300</td>\n",
       "      <td>23.471918</td>\n",
       "      <td>9.611513</td>\n",
       "      <td>13.860404</td>\n",
       "      <td>NaN</td>\n",
       "    </tr>\n",
       "    <tr>\n",
       "      <td>28</td>\n",
       "      <td>1145984</td>\n",
       "      <td>191130302618W300</td>\n",
       "      <td>18.429383</td>\n",
       "      <td>13.474848</td>\n",
       "      <td>4.954535</td>\n",
       "      <td>NaN</td>\n",
       "    </tr>\n",
       "    <tr>\n",
       "      <td>29</td>\n",
       "      <td>1150577</td>\n",
       "      <td>192012903020W300</td>\n",
       "      <td>43.014430</td>\n",
       "      <td>40.874615</td>\n",
       "      <td>2.139815</td>\n",
       "      <td>NaN</td>\n",
       "    </tr>\n",
       "    <tr>\n",
       "      <td>30</td>\n",
       "      <td>1168349</td>\n",
       "      <td>103163303119W300</td>\n",
       "      <td>14.074231</td>\n",
       "      <td>5.630070</td>\n",
       "      <td>8.444161</td>\n",
       "      <td>NaN</td>\n",
       "    </tr>\n",
       "    <tr>\n",
       "      <td>31</td>\n",
       "      <td>2579717</td>\n",
       "      <td>100153103403W400</td>\n",
       "      <td>29.956139</td>\n",
       "      <td>15.649721</td>\n",
       "      <td>14.306417</td>\n",
       "      <td>NaN</td>\n",
       "    </tr>\n",
       "    <tr>\n",
       "      <td>32</td>\n",
       "      <td>1149838</td>\n",
       "      <td>192151403424W300</td>\n",
       "      <td>17.347048</td>\n",
       "      <td>16.590396</td>\n",
       "      <td>0.756652</td>\n",
       "      <td>NaN</td>\n",
       "    </tr>\n",
       "    <tr>\n",
       "      <td>33</td>\n",
       "      <td>1166489</td>\n",
       "      <td>101050303023W300</td>\n",
       "      <td>19.223394</td>\n",
       "      <td>14.392460</td>\n",
       "      <td>4.830934</td>\n",
       "      <td>NaN</td>\n",
       "    </tr>\n",
       "    <tr>\n",
       "      <td>34</td>\n",
       "      <td>1074415</td>\n",
       "      <td>191091302619W300</td>\n",
       "      <td>5.007165</td>\n",
       "      <td>4.230240</td>\n",
       "      <td>0.776925</td>\n",
       "      <td>NaN</td>\n",
       "    </tr>\n",
       "    <tr>\n",
       "      <td>35</td>\n",
       "      <td>1169544</td>\n",
       "      <td>105112402620W300</td>\n",
       "      <td>10.088031</td>\n",
       "      <td>10.076260</td>\n",
       "      <td>0.011772</td>\n",
       "      <td>NaN</td>\n",
       "    </tr>\n",
       "    <tr>\n",
       "      <td>36</td>\n",
       "      <td>1160667</td>\n",
       "      <td>101112103219W300</td>\n",
       "      <td>30.802566</td>\n",
       "      <td>18.503893</td>\n",
       "      <td>11.003830</td>\n",
       "      <td>NaN</td>\n",
       "    </tr>\n",
       "    <tr>\n",
       "      <td>37</td>\n",
       "      <td>1151328</td>\n",
       "      <td>192160602618W300</td>\n",
       "      <td>27.077344</td>\n",
       "      <td>26.473069</td>\n",
       "      <td>0.604275</td>\n",
       "      <td>NaN</td>\n",
       "    </tr>\n",
       "    <tr>\n",
       "      <td>38</td>\n",
       "      <td>1162833</td>\n",
       "      <td>104140503023W300</td>\n",
       "      <td>26.494865</td>\n",
       "      <td>22.882292</td>\n",
       "      <td>3.612573</td>\n",
       "      <td>NaN</td>\n",
       "    </tr>\n",
       "    <tr>\n",
       "      <td>39</td>\n",
       "      <td>2275408</td>\n",
       "      <td>100043204502W400</td>\n",
       "      <td>4.120059</td>\n",
       "      <td>NaN</td>\n",
       "      <td>4.120059</td>\n",
       "      <td>NaN</td>\n",
       "    </tr>\n",
       "    <tr>\n",
       "      <td>40</td>\n",
       "      <td>1160903</td>\n",
       "      <td>103143003022W300</td>\n",
       "      <td>26.090011</td>\n",
       "      <td>24.795789</td>\n",
       "      <td>1.294222</td>\n",
       "      <td>NaN</td>\n",
       "    </tr>\n",
       "    <tr>\n",
       "      <td>41</td>\n",
       "      <td>2596765</td>\n",
       "      <td>104151505621W400</td>\n",
       "      <td>17.348868</td>\n",
       "      <td>16.018024</td>\n",
       "      <td>1.330844</td>\n",
       "      <td>NaN</td>\n",
       "    </tr>\n",
       "    <tr>\n",
       "      <td>42</td>\n",
       "      <td>1159668</td>\n",
       "      <td>103102203021W300</td>\n",
       "      <td>19.648931</td>\n",
       "      <td>19.052503</td>\n",
       "      <td>0.596428</td>\n",
       "      <td>NaN</td>\n",
       "    </tr>\n",
       "    <tr>\n",
       "      <td>43</td>\n",
       "      <td>1163119</td>\n",
       "      <td>101032703324W300</td>\n",
       "      <td>22.113845</td>\n",
       "      <td>19.776529</td>\n",
       "      <td>2.337316</td>\n",
       "      <td>NaN</td>\n",
       "    </tr>\n",
       "    <tr>\n",
       "      <td>44</td>\n",
       "      <td>1147871</td>\n",
       "      <td>191123603024W300</td>\n",
       "      <td>23.464503</td>\n",
       "      <td>9.893157</td>\n",
       "      <td>13.571346</td>\n",
       "      <td>NaN</td>\n",
       "    </tr>\n",
       "    <tr>\n",
       "      <td>45</td>\n",
       "      <td>2245263</td>\n",
       "      <td>100080404008W500</td>\n",
       "      <td>8.648816</td>\n",
       "      <td>1.017550</td>\n",
       "      <td>7.631266</td>\n",
       "      <td>NaN</td>\n",
       "    </tr>\n",
       "    <tr>\n",
       "      <td>46</td>\n",
       "      <td>2613286</td>\n",
       "      <td>102131503403W400</td>\n",
       "      <td>14.830393</td>\n",
       "      <td>9.308205</td>\n",
       "      <td>5.522188</td>\n",
       "      <td>NaN</td>\n",
       "    </tr>\n",
       "    <tr>\n",
       "      <td>47</td>\n",
       "      <td>1141746</td>\n",
       "      <td>191101503323W300</td>\n",
       "      <td>7.992822</td>\n",
       "      <td>7.410782</td>\n",
       "      <td>0.582040</td>\n",
       "      <td>NaN</td>\n",
       "    </tr>\n",
       "    <tr>\n",
       "      <td>48</td>\n",
       "      <td>2578830</td>\n",
       "      <td>100011403302W400</td>\n",
       "      <td>9.681792</td>\n",
       "      <td>6.470108</td>\n",
       "      <td>3.211684</td>\n",
       "      <td>NaN</td>\n",
       "    </tr>\n",
       "    <tr>\n",
       "      <td>49</td>\n",
       "      <td>1164869</td>\n",
       "      <td>101070903021W300</td>\n",
       "      <td>7.178356</td>\n",
       "      <td>6.795779</td>\n",
       "      <td>0.382577</td>\n",
       "      <td>NaN</td>\n",
       "    </tr>\n",
       "  </tbody>\n",
       "</table>\n",
       "</div>"
      ],
      "text/plain": [
       "    EPAssetsId               UWI  _Normalized`IP`BOE/d  \\\n",
       "0      2600565  100010303502W400             39.572937   \n",
       "1      2596704  100032903508W400             51.604687   \n",
       "2      2605931  100130303504W400             34.712815   \n",
       "3      1167486  101093102926W300             18.243091   \n",
       "4      1163017  101023502926W300             31.348512   \n",
       "5      1151629  192063203019W300             34.136233   \n",
       "6      2613054  103123203408W400             24.459689   \n",
       "7      1152209  191071803227W300             43.766049   \n",
       "8      1170236  101141303020W300              9.285127   \n",
       "9      1148254  191012503323W300              9.261979   \n",
       "10     1164104  101151403223W300             13.747200   \n",
       "11     1160917  101163102619W300             36.793610   \n",
       "12     2596763  102041505621W400              5.100642   \n",
       "13     2595446  102043605622W400             16.799890   \n",
       "14     2596829  102081205823W400              3.111268   \n",
       "15     1145971  191082602518W300             10.120451   \n",
       "16     2581711  102133203201W400             48.075173   \n",
       "17     1165816  103073003219W300             11.449882   \n",
       "18     1167894  103162203019W300             19.603046   \n",
       "19     1019118  191011203320W300             15.283504   \n",
       "20     1146752  191020502614W300              4.998548   \n",
       "21     1145580  191022803227W300             16.095800   \n",
       "22     1146768  191140102618W300             21.965936   \n",
       "23     1078138  191111903120W300              1.902684   \n",
       "24     1078400  191132503220W300              5.241910   \n",
       "25     1149177  192070203424W300             14.714038   \n",
       "26     1160511  101082302619W300             23.926650   \n",
       "27     1147505  191142103228W300             23.471918   \n",
       "28     1145984  191130302618W300             18.429383   \n",
       "29     1150577  192012903020W300             43.014430   \n",
       "30     1168349  103163303119W300             14.074231   \n",
       "31     2579717  100153103403W400             29.956139   \n",
       "32     1149838  192151403424W300             17.347048   \n",
       "33     1166489  101050303023W300             19.223394   \n",
       "34     1074415  191091302619W300              5.007165   \n",
       "35     1169544  105112402620W300             10.088031   \n",
       "36     1160667  101112103219W300             30.802566   \n",
       "37     1151328  192160602618W300             27.077344   \n",
       "38     1162833  104140503023W300             26.494865   \n",
       "39     2275408  100043204502W400              4.120059   \n",
       "40     1160903  103143003022W300             26.090011   \n",
       "41     2596765  104151505621W400             17.348868   \n",
       "42     1159668  103102203021W300             19.648931   \n",
       "43     1163119  101032703324W300             22.113845   \n",
       "44     1147871  191123603024W300             23.464503   \n",
       "45     2245263  100080404008W500              8.648816   \n",
       "46     2613286  102131503403W400             14.830393   \n",
       "47     1141746  191101503323W300              7.992822   \n",
       "48     2578830  100011403302W400              9.681792   \n",
       "49     1164869  101070903021W300              7.178356   \n",
       "\n",
       "    _Normalized`IP`(Oil`-`Bbls)  _Normalized`IP`Gas`(Boe/d)  \\\n",
       "0                     25.384235                   14.188702   \n",
       "1                     41.061911                   10.542776   \n",
       "2                     17.344473                   17.368342   \n",
       "3                     17.986731                    0.256359   \n",
       "4                     28.123094                    3.225418   \n",
       "5                     33.099024                    1.037208   \n",
       "6                     21.395803                    3.063886   \n",
       "7                     24.240889                   19.525160   \n",
       "8                      9.040539                    0.244588   \n",
       "9                      8.333985                    0.927994   \n",
       "10                     8.134109                    5.613091   \n",
       "11                    34.966396                    1.827214   \n",
       "12                     4.514679                    0.585964   \n",
       "13                    15.270237                    1.529654   \n",
       "14                     1.766036                    1.345232   \n",
       "15                     9.216654                    0.903797   \n",
       "16                    24.771329                   23.303844   \n",
       "17                     7.270310                    4.179572   \n",
       "18                    19.254476                    0.348570   \n",
       "19                    13.837560                    1.445944   \n",
       "20                     4.829169                    0.169380   \n",
       "21                     4.186211                   11.909589   \n",
       "22                    19.174106                    2.791831   \n",
       "23                     1.134261                    0.768423   \n",
       "24                     2.488664                    2.753246   \n",
       "25                    13.870407                    0.843631   \n",
       "26                    21.843078                    2.083573   \n",
       "27                     9.611513                   13.860404   \n",
       "28                    13.474848                    4.954535   \n",
       "29                    40.874615                    2.139815   \n",
       "30                     5.630070                    8.444161   \n",
       "31                    15.649721                   14.306417   \n",
       "32                    16.590396                    0.756652   \n",
       "33                    14.392460                    4.830934   \n",
       "34                     4.230240                    0.776925   \n",
       "35                    10.076260                    0.011772   \n",
       "36                    18.503893                   11.003830   \n",
       "37                    26.473069                    0.604275   \n",
       "38                    22.882292                    3.612573   \n",
       "39                          NaN                    4.120059   \n",
       "40                    24.795789                    1.294222   \n",
       "41                    16.018024                    1.330844   \n",
       "42                    19.052503                    0.596428   \n",
       "43                    19.776529                    2.337316   \n",
       "44                     9.893157                   13.571346   \n",
       "45                     1.017550                    7.631266   \n",
       "46                     9.308205                    5.522188   \n",
       "47                     7.410782                    0.582040   \n",
       "48                     6.470108                    3.211684   \n",
       "49                     6.795779                    0.382577   \n",
       "\n",
       "    _Normalized`IP`(Water`-`Bbls)  \n",
       "0                             NaN  \n",
       "1                             NaN  \n",
       "2                             NaN  \n",
       "3                             NaN  \n",
       "4                             NaN  \n",
       "5                             NaN  \n",
       "6                             NaN  \n",
       "7                             NaN  \n",
       "8                             NaN  \n",
       "9                             NaN  \n",
       "10                            NaN  \n",
       "11                            NaN  \n",
       "12                            NaN  \n",
       "13                            NaN  \n",
       "14                            NaN  \n",
       "15                            NaN  \n",
       "16                            NaN  \n",
       "17                            NaN  \n",
       "18                            NaN  \n",
       "19                            NaN  \n",
       "20                            NaN  \n",
       "21                            NaN  \n",
       "22                            NaN  \n",
       "23                            NaN  \n",
       "24                            NaN  \n",
       "25                            NaN  \n",
       "26                            NaN  \n",
       "27                            NaN  \n",
       "28                            NaN  \n",
       "29                            NaN  \n",
       "30                            NaN  \n",
       "31                            NaN  \n",
       "32                            NaN  \n",
       "33                            NaN  \n",
       "34                            NaN  \n",
       "35                            NaN  \n",
       "36                            NaN  \n",
       "37                            NaN  \n",
       "38                            NaN  \n",
       "39                            NaN  \n",
       "40                            NaN  \n",
       "41                            NaN  \n",
       "42                            NaN  \n",
       "43                            NaN  \n",
       "44                            NaN  \n",
       "45                            NaN  \n",
       "46                            NaN  \n",
       "47                            NaN  \n",
       "48                            NaN  \n",
       "49                            NaN  "
      ]
     },
     "execution_count": 27,
     "metadata": {},
     "output_type": "execute_result"
    }
   ],
   "source": [
    "df_reg_viking_train.head(50)"
   ]
  },
  {
   "cell_type": "code",
   "execution_count": 28,
   "metadata": {
    "colab": {
     "base_uri": "https://localhost:8080/",
     "height": 291
    },
    "colab_type": "code",
    "collapsed": true,
    "id": "_t7qDuigDgTm",
    "outputId": "617da807-b73e-4781-b5c9-e6b130323944"
   },
   "outputs": [
    {
     "data": {
      "text/html": [
       "<div>\n",
       "<style scoped>\n",
       "    .dataframe tbody tr th:only-of-type {\n",
       "        vertical-align: middle;\n",
       "    }\n",
       "\n",
       "    .dataframe tbody tr th {\n",
       "        vertical-align: top;\n",
       "    }\n",
       "\n",
       "    .dataframe thead th {\n",
       "        text-align: right;\n",
       "    }\n",
       "</style>\n",
       "<table border=\"1\" class=\"dataframe\">\n",
       "  <thead>\n",
       "    <tr style=\"text-align: right;\">\n",
       "      <th></th>\n",
       "      <th>EPAssetsId</th>\n",
       "      <th>_Normalized`IP`BOE/d</th>\n",
       "      <th>_Normalized`IP`(Oil`-`Bbls)</th>\n",
       "      <th>_Normalized`IP`Gas`(Boe/d)</th>\n",
       "      <th>_Normalized`IP`(Water`-`Bbls)</th>\n",
       "    </tr>\n",
       "  </thead>\n",
       "  <tbody>\n",
       "    <tr>\n",
       "      <td>count</td>\n",
       "      <td>6.256000e+03</td>\n",
       "      <td>6255.000000</td>\n",
       "      <td>6188.000000</td>\n",
       "      <td>6226.000000</td>\n",
       "      <td>4715.000000</td>\n",
       "    </tr>\n",
       "    <tr>\n",
       "      <td>mean</td>\n",
       "      <td>1.417648e+06</td>\n",
       "      <td>18.157087</td>\n",
       "      <td>13.684165</td>\n",
       "      <td>4.549794</td>\n",
       "      <td>4.349329</td>\n",
       "    </tr>\n",
       "    <tr>\n",
       "      <td>std</td>\n",
       "      <td>5.444449e+05</td>\n",
       "      <td>29.199687</td>\n",
       "      <td>10.101463</td>\n",
       "      <td>26.598270</td>\n",
       "      <td>14.727120</td>\n",
       "    </tr>\n",
       "    <tr>\n",
       "      <td>min</td>\n",
       "      <td>1.014997e+06</td>\n",
       "      <td>0.002097</td>\n",
       "      <td>0.002097</td>\n",
       "      <td>0.000654</td>\n",
       "      <td>0.000699</td>\n",
       "    </tr>\n",
       "    <tr>\n",
       "      <td>25%</td>\n",
       "      <td>1.142534e+06</td>\n",
       "      <td>8.134660</td>\n",
       "      <td>6.257477</td>\n",
       "      <td>0.773001</td>\n",
       "      <td>0.731364</td>\n",
       "    </tr>\n",
       "    <tr>\n",
       "      <td>50%</td>\n",
       "      <td>1.152618e+06</td>\n",
       "      <td>14.652701</td>\n",
       "      <td>11.702173</td>\n",
       "      <td>1.782089</td>\n",
       "      <td>1.775121</td>\n",
       "    </tr>\n",
       "    <tr>\n",
       "      <td>75%</td>\n",
       "      <td>1.169602e+06</td>\n",
       "      <td>22.894202</td>\n",
       "      <td>18.903120</td>\n",
       "      <td>3.804842</td>\n",
       "      <td>3.873818</td>\n",
       "    </tr>\n",
       "    <tr>\n",
       "      <td>max</td>\n",
       "      <td>2.618019e+06</td>\n",
       "      <td>1178.290598</td>\n",
       "      <td>141.004736</td>\n",
       "      <td>1132.220609</td>\n",
       "      <td>568.681085</td>\n",
       "    </tr>\n",
       "  </tbody>\n",
       "</table>\n",
       "</div>"
      ],
      "text/plain": [
       "         EPAssetsId  _Normalized`IP`BOE/d  _Normalized`IP`(Oil`-`Bbls)  \\\n",
       "count  6.256000e+03           6255.000000                  6188.000000   \n",
       "mean   1.417648e+06             18.157087                    13.684165   \n",
       "std    5.444449e+05             29.199687                    10.101463   \n",
       "min    1.014997e+06              0.002097                     0.002097   \n",
       "25%    1.142534e+06              8.134660                     6.257477   \n",
       "50%    1.152618e+06             14.652701                    11.702173   \n",
       "75%    1.169602e+06             22.894202                    18.903120   \n",
       "max    2.618019e+06           1178.290598                   141.004736   \n",
       "\n",
       "       _Normalized`IP`Gas`(Boe/d)  _Normalized`IP`(Water`-`Bbls)  \n",
       "count                 6226.000000                    4715.000000  \n",
       "mean                     4.549794                       4.349329  \n",
       "std                     26.598270                      14.727120  \n",
       "min                      0.000654                       0.000699  \n",
       "25%                      0.773001                       0.731364  \n",
       "50%                      1.782089                       1.775121  \n",
       "75%                      3.804842                       3.873818  \n",
       "max                   1132.220609                     568.681085  "
      ]
     },
     "execution_count": 28,
     "metadata": {},
     "output_type": "execute_result"
    }
   ],
   "source": [
    "df_reg_viking_train.describe()"
   ]
  },
  {
   "cell_type": "markdown",
   "metadata": {
    "colab_type": "text",
    "id": "IzT3yifyDpUx"
   },
   "source": [
    "## Viking validation File"
   ]
  },
  {
   "cell_type": "code",
   "execution_count": 29,
   "metadata": {
    "colab": {
     "base_uri": "https://localhost:8080/",
     "height": 32
    },
    "colab_type": "code",
    "id": "0UoYu-HNDpUz",
    "outputId": "d2a051ec-6a6a-4d47-8115-f2e198568990"
   },
   "outputs": [
    {
     "data": {
      "text/plain": [
       "(1329, 6)"
      ]
     },
     "execution_count": 29,
     "metadata": {},
     "output_type": "execute_result"
    }
   ],
   "source": [
    "df_reg_viking_validation.shape"
   ]
  },
  {
   "cell_type": "code",
   "execution_count": 30,
   "metadata": {
    "colab": {
     "base_uri": "https://localhost:8080/",
     "height": 131
    },
    "colab_type": "code",
    "collapsed": true,
    "id": "X6zNJ3XoDpU2",
    "outputId": "c5364810-0963-4040-f34e-5671c661f69b"
   },
   "outputs": [
    {
     "data": {
      "text/plain": [
       "EPAssetsId                       1329\n",
       "UWI                              1329\n",
       "_Normalized`IP`BOE/d             1326\n",
       "_Normalized`IP`(Oil`-`Bbls)      1299\n",
       "_Normalized`IP`Gas`(Boe/d)       1317\n",
       "_Normalized`IP`(Water`-`Bbls)     961\n",
       "dtype: int64"
      ]
     },
     "execution_count": 30,
     "metadata": {},
     "output_type": "execute_result"
    }
   ],
   "source": [
    "df_reg_viking_validation.nunique()"
   ]
  },
  {
   "cell_type": "code",
   "execution_count": 31,
   "metadata": {
    "colab": {
     "base_uri": "https://localhost:8080/",
     "height": 197
    },
    "colab_type": "code",
    "collapsed": true,
    "id": "hqSI_P5ZDpU4",
    "outputId": "626feed4-1477-472b-934b-17193be67fc6"
   },
   "outputs": [
    {
     "name": "stdout",
     "output_type": "stream",
     "text": [
      "<class 'pandas.core.frame.DataFrame'>\n",
      "RangeIndex: 1329 entries, 0 to 1328\n",
      "Data columns (total 6 columns):\n",
      "EPAssetsId                       1329 non-null int64\n",
      "UWI                              1329 non-null object\n",
      "_Normalized`IP`BOE/d             1326 non-null float64\n",
      "_Normalized`IP`(Oil`-`Bbls)      1319 non-null float64\n",
      "_Normalized`IP`Gas`(Boe/d)       1323 non-null float64\n",
      "_Normalized`IP`(Water`-`Bbls)    1029 non-null float64\n",
      "dtypes: float64(4), int64(1), object(1)\n",
      "memory usage: 62.4+ KB\n"
     ]
    }
   ],
   "source": [
    "df_reg_viking_validation.info()"
   ]
  },
  {
   "cell_type": "code",
   "execution_count": 32,
   "metadata": {
    "colab": {
     "base_uri": "https://localhost:8080/",
     "height": 201
    },
    "colab_type": "code",
    "collapsed": true,
    "id": "o6P4ACX5DpU7",
    "outputId": "2cbd55e7-f839-4c52-ac72-5f5fde094171"
   },
   "outputs": [
    {
     "data": {
      "text/html": [
       "<div>\n",
       "<style scoped>\n",
       "    .dataframe tbody tr th:only-of-type {\n",
       "        vertical-align: middle;\n",
       "    }\n",
       "\n",
       "    .dataframe tbody tr th {\n",
       "        vertical-align: top;\n",
       "    }\n",
       "\n",
       "    .dataframe thead th {\n",
       "        text-align: right;\n",
       "    }\n",
       "</style>\n",
       "<table border=\"1\" class=\"dataframe\">\n",
       "  <thead>\n",
       "    <tr style=\"text-align: right;\">\n",
       "      <th></th>\n",
       "      <th>EPAssetsId</th>\n",
       "      <th>UWI</th>\n",
       "      <th>_Normalized`IP`BOE/d</th>\n",
       "      <th>_Normalized`IP`(Oil`-`Bbls)</th>\n",
       "      <th>_Normalized`IP`Gas`(Boe/d)</th>\n",
       "      <th>_Normalized`IP`(Water`-`Bbls)</th>\n",
       "    </tr>\n",
       "  </thead>\n",
       "  <tbody>\n",
       "    <tr>\n",
       "      <td>0</td>\n",
       "      <td>1015000</td>\n",
       "      <td>192093002414W300</td>\n",
       "      <td>7.495685</td>\n",
       "      <td>6.971195</td>\n",
       "      <td>0.524490</td>\n",
       "      <td>3.594271</td>\n",
       "    </tr>\n",
       "    <tr>\n",
       "      <td>1</td>\n",
       "      <td>1015254</td>\n",
       "      <td>191122402515W300</td>\n",
       "      <td>12.446692</td>\n",
       "      <td>11.223100</td>\n",
       "      <td>1.223592</td>\n",
       "      <td>3.472668</td>\n",
       "    </tr>\n",
       "    <tr>\n",
       "      <td>2</td>\n",
       "      <td>1015255</td>\n",
       "      <td>192122402515W300</td>\n",
       "      <td>8.137377</td>\n",
       "      <td>7.472282</td>\n",
       "      <td>0.665095</td>\n",
       "      <td>3.473367</td>\n",
       "    </tr>\n",
       "    <tr>\n",
       "      <td>3</td>\n",
       "      <td>1018074</td>\n",
       "      <td>191103603119W300</td>\n",
       "      <td>1.903889</td>\n",
       "      <td>1.621371</td>\n",
       "      <td>0.282518</td>\n",
       "      <td>0.450769</td>\n",
       "    </tr>\n",
       "    <tr>\n",
       "      <td>4</td>\n",
       "      <td>1018085</td>\n",
       "      <td>191113003219W300</td>\n",
       "      <td>8.924426</td>\n",
       "      <td>2.966689</td>\n",
       "      <td>5.957737</td>\n",
       "      <td>0.366905</td>\n",
       "    </tr>\n",
       "  </tbody>\n",
       "</table>\n",
       "</div>"
      ],
      "text/plain": [
       "   EPAssetsId               UWI  _Normalized`IP`BOE/d  \\\n",
       "0     1015000  192093002414W300              7.495685   \n",
       "1     1015254  191122402515W300             12.446692   \n",
       "2     1015255  192122402515W300              8.137377   \n",
       "3     1018074  191103603119W300              1.903889   \n",
       "4     1018085  191113003219W300              8.924426   \n",
       "\n",
       "   _Normalized`IP`(Oil`-`Bbls)  _Normalized`IP`Gas`(Boe/d)  \\\n",
       "0                     6.971195                    0.524490   \n",
       "1                    11.223100                    1.223592   \n",
       "2                     7.472282                    0.665095   \n",
       "3                     1.621371                    0.282518   \n",
       "4                     2.966689                    5.957737   \n",
       "\n",
       "   _Normalized`IP`(Water`-`Bbls)  \n",
       "0                       3.594271  \n",
       "1                       3.472668  \n",
       "2                       3.473367  \n",
       "3                       0.450769  \n",
       "4                       0.366905  "
      ]
     },
     "execution_count": 32,
     "metadata": {},
     "output_type": "execute_result"
    }
   ],
   "source": [
    "df_reg_viking_validation.head()"
   ]
  },
  {
   "cell_type": "code",
   "execution_count": 33,
   "metadata": {
    "colab": {
     "base_uri": "https://localhost:8080/",
     "height": 291
    },
    "colab_type": "code",
    "collapsed": true,
    "id": "5qH_NnDdDpU9",
    "outputId": "da559c08-af5c-4acb-b174-3d722a22fa75"
   },
   "outputs": [
    {
     "data": {
      "text/html": [
       "<div>\n",
       "<style scoped>\n",
       "    .dataframe tbody tr th:only-of-type {\n",
       "        vertical-align: middle;\n",
       "    }\n",
       "\n",
       "    .dataframe tbody tr th {\n",
       "        vertical-align: top;\n",
       "    }\n",
       "\n",
       "    .dataframe thead th {\n",
       "        text-align: right;\n",
       "    }\n",
       "</style>\n",
       "<table border=\"1\" class=\"dataframe\">\n",
       "  <thead>\n",
       "    <tr style=\"text-align: right;\">\n",
       "      <th></th>\n",
       "      <th>EPAssetsId</th>\n",
       "      <th>_Normalized`IP`BOE/d</th>\n",
       "      <th>_Normalized`IP`(Oil`-`Bbls)</th>\n",
       "      <th>_Normalized`IP`Gas`(Boe/d)</th>\n",
       "      <th>_Normalized`IP`(Water`-`Bbls)</th>\n",
       "    </tr>\n",
       "  </thead>\n",
       "  <tbody>\n",
       "    <tr>\n",
       "      <td>count</td>\n",
       "      <td>1.329000e+03</td>\n",
       "      <td>1326.000000</td>\n",
       "      <td>1319.000000</td>\n",
       "      <td>1323.000000</td>\n",
       "      <td>1029.000000</td>\n",
       "    </tr>\n",
       "    <tr>\n",
       "      <td>mean</td>\n",
       "      <td>1.385488e+06</td>\n",
       "      <td>18.173413</td>\n",
       "      <td>13.887741</td>\n",
       "      <td>4.284824</td>\n",
       "      <td>3.721174</td>\n",
       "    </tr>\n",
       "    <tr>\n",
       "      <td>std</td>\n",
       "      <td>5.216820e+05</td>\n",
       "      <td>24.373845</td>\n",
       "      <td>10.433095</td>\n",
       "      <td>19.488136</td>\n",
       "      <td>6.621853</td>\n",
       "    </tr>\n",
       "    <tr>\n",
       "      <td>min</td>\n",
       "      <td>1.015000e+06</td>\n",
       "      <td>0.008297</td>\n",
       "      <td>0.006989</td>\n",
       "      <td>0.000654</td>\n",
       "      <td>0.000699</td>\n",
       "    </tr>\n",
       "    <tr>\n",
       "      <td>25%</td>\n",
       "      <td>1.142528e+06</td>\n",
       "      <td>8.518564</td>\n",
       "      <td>6.618267</td>\n",
       "      <td>0.793929</td>\n",
       "      <td>0.747088</td>\n",
       "    </tr>\n",
       "    <tr>\n",
       "      <td>50%</td>\n",
       "      <td>1.151692e+06</td>\n",
       "      <td>14.523771</td>\n",
       "      <td>11.611670</td>\n",
       "      <td>1.756584</td>\n",
       "      <td>1.696149</td>\n",
       "    </tr>\n",
       "    <tr>\n",
       "      <td>75%</td>\n",
       "      <td>1.168002e+06</td>\n",
       "      <td>22.349601</td>\n",
       "      <td>18.816636</td>\n",
       "      <td>3.680587</td>\n",
       "      <td>3.918545</td>\n",
       "    </tr>\n",
       "    <tr>\n",
       "      <td>max</td>\n",
       "      <td>2.616194e+06</td>\n",
       "      <td>693.076163</td>\n",
       "      <td>101.906641</td>\n",
       "      <td>594.930124</td>\n",
       "      <td>81.963782</td>\n",
       "    </tr>\n",
       "  </tbody>\n",
       "</table>\n",
       "</div>"
      ],
      "text/plain": [
       "         EPAssetsId  _Normalized`IP`BOE/d  _Normalized`IP`(Oil`-`Bbls)  \\\n",
       "count  1.329000e+03           1326.000000                  1319.000000   \n",
       "mean   1.385488e+06             18.173413                    13.887741   \n",
       "std    5.216820e+05             24.373845                    10.433095   \n",
       "min    1.015000e+06              0.008297                     0.006989   \n",
       "25%    1.142528e+06              8.518564                     6.618267   \n",
       "50%    1.151692e+06             14.523771                    11.611670   \n",
       "75%    1.168002e+06             22.349601                    18.816636   \n",
       "max    2.616194e+06            693.076163                   101.906641   \n",
       "\n",
       "       _Normalized`IP`Gas`(Boe/d)  _Normalized`IP`(Water`-`Bbls)  \n",
       "count                 1323.000000                    1029.000000  \n",
       "mean                     4.284824                       3.721174  \n",
       "std                     19.488136                       6.621853  \n",
       "min                      0.000654                       0.000699  \n",
       "25%                      0.793929                       0.747088  \n",
       "50%                      1.756584                       1.696149  \n",
       "75%                      3.680587                       3.918545  \n",
       "max                    594.930124                      81.963782  "
      ]
     },
     "execution_count": 33,
     "metadata": {},
     "output_type": "execute_result"
    }
   ],
   "source": [
    "df_reg_viking_validation.describe()"
   ]
  },
  {
   "cell_type": "code",
   "execution_count": null,
   "metadata": {
    "colab": {},
    "colab_type": "code",
    "id": "kdqRAMJUM0nb"
   },
   "outputs": [],
   "source": []
  },
  {
   "cell_type": "markdown",
   "metadata": {
    "colab_type": "text",
    "id": "kSWgroHXOhM7"
   },
   "source": [
    "# Classification DataSet"
   ]
  },
  {
   "cell_type": "markdown",
   "metadata": {
    "colab_type": "text",
    "id": "1qTV0ySwOwi_"
   },
   "source": [
    "## Loading"
   ]
  },
  {
   "cell_type": "code",
   "execution_count": 35,
   "metadata": {
    "colab": {},
    "colab_type": "code",
    "id": "J8f1CNwCOkro"
   },
   "outputs": [],
   "source": [
    "#df_clas_header_test = pd.read_csv(\"/gdrive/My Drive/reCLAIM 2019 Competition/classification_comp_starter_kit/classification_comp_starter_kit/Header - test.txt\")\n",
    "#df_clas_header_train = pd.read_csv(\"/gdrive/My Drive/reCLAIM 2019 Competition/classification_comp_starter_kit/classification_comp_starter_kit/Header - train.txt\")\n",
    "#df_clas_header_validation = pd.read_csv(\"/gdrive/My Drive/reCLAIM 2019 Competition/classification_comp_starter_kit/classification_comp_starter_kit/Header - validation.txt\")\n",
    "#df_clas_well_class_train = pd.read_csv(\"/gdrive/My Drive/reCLAIM 2019 Competition/classification_comp_starter_kit/classification_comp_starter_kit/Well_class_train.txt\")\n",
    "#df_clas_well_class_validation = pd.read_csv(\"/gdrive/My Drive/reCLAIM 2019 Competition/classification_comp_starter_kit/classification_comp_starter_kit/Well_class_validate.txt\")"
   ]
  },
  {
   "cell_type": "code",
   "execution_count": 36,
   "metadata": {
    "colab": {},
    "colab_type": "code",
    "id": "YXQMzR1oQhXP"
   },
   "outputs": [],
   "source": [
    "df_clas_header_test = pd.read_csv(\"classification/Header - test.txt\")\n",
    "df_clas_header_train = pd.read_csv(\"classification/Header - train.txt\")\n",
    "df_clas_header_validation = pd.read_csv(\"classification/Header - validation.txt\")\n",
    "df_clas_well_class_train = pd.read_csv(\"classification/Well_class_train.txt\")\n",
    "df_clas_well_class_validation = pd.read_csv(\"classification/Well_class_validate.txt\")"
   ]
  },
  {
   "cell_type": "code",
   "execution_count": 37,
   "metadata": {
    "colab": {
     "base_uri": "https://localhost:8080/",
     "height": 258
    },
    "colab_type": "code",
    "collapsed": true,
    "id": "lFopFOP_QpAP",
    "outputId": "8358a250-99fc-4644-eac0-e42f0303d897"
   },
   "outputs": [
    {
     "data": {
      "text/html": [
       "<div>\n",
       "<style scoped>\n",
       "    .dataframe tbody tr th:only-of-type {\n",
       "        vertical-align: middle;\n",
       "    }\n",
       "\n",
       "    .dataframe tbody tr th {\n",
       "        vertical-align: top;\n",
       "    }\n",
       "\n",
       "    .dataframe thead th {\n",
       "        text-align: right;\n",
       "    }\n",
       "</style>\n",
       "<table border=\"1\" class=\"dataframe\">\n",
       "  <thead>\n",
       "    <tr style=\"text-align: right;\">\n",
       "      <th></th>\n",
       "      <th>EPAssetsId</th>\n",
       "      <th>Province</th>\n",
       "      <th>LicenceNumber</th>\n",
       "      <th>UWI</th>\n",
       "      <th>CurrentOperator</th>\n",
       "      <th>CurrentOperatorParent</th>\n",
       "      <th>CurrentOperatorID</th>\n",
       "      <th>Licensee</th>\n",
       "      <th>LicenseeParentCompany</th>\n",
       "      <th>LicenseeID</th>\n",
       "      <th>...</th>\n",
       "      <th>UnitID</th>\n",
       "      <th>UnitName</th>\n",
       "      <th>UnitFlag</th>\n",
       "      <th>Municipality</th>\n",
       "      <th>CompletionDate</th>\n",
       "      <th>Agent</th>\n",
       "      <th>_Max`Prod`(BOE)</th>\n",
       "      <th>_Fracture`Stages</th>\n",
       "      <th>_Open`Hole</th>\n",
       "      <th>_Completion`Events</th>\n",
       "    </tr>\n",
       "  </thead>\n",
       "  <tbody>\n",
       "    <tr>\n",
       "      <td>0</td>\n",
       "      <td>2367432</td>\n",
       "      <td>Alberta</td>\n",
       "      <td>0195212</td>\n",
       "      <td>102032605705W400</td>\n",
       "      <td>Canadian Natural Resources Limited</td>\n",
       "      <td>159</td>\n",
       "      <td>NaN</td>\n",
       "      <td>Canadian Natural Resources Limited</td>\n",
       "      <td>159</td>\n",
       "      <td>NaN</td>\n",
       "      <td>...</td>\n",
       "      <td>NaN</td>\n",
       "      <td>NaN</td>\n",
       "      <td>No</td>\n",
       "      <td>NaN</td>\n",
       "      <td>NaN</td>\n",
       "      <td>Unspecified</td>\n",
       "      <td>NaN</td>\n",
       "      <td>NaN</td>\n",
       "      <td>CasedCompleted</td>\n",
       "      <td>NaN</td>\n",
       "    </tr>\n",
       "    <tr>\n",
       "      <td>1</td>\n",
       "      <td>2475476</td>\n",
       "      <td>Alberta</td>\n",
       "      <td>0264445</td>\n",
       "      <td>100023507714W400</td>\n",
       "      <td>Canadian Natural Resources Limited</td>\n",
       "      <td>159</td>\n",
       "      <td>NaN</td>\n",
       "      <td>Point Loma Resources Ltd.</td>\n",
       "      <td>8932</td>\n",
       "      <td>NaN</td>\n",
       "      <td>...</td>\n",
       "      <td>NaN</td>\n",
       "      <td>NaN</td>\n",
       "      <td>No</td>\n",
       "      <td>NaN</td>\n",
       "      <td>NaN</td>\n",
       "      <td>Unspecified</td>\n",
       "      <td>NaN</td>\n",
       "      <td>NaN</td>\n",
       "      <td>CasedCompleted</td>\n",
       "      <td>NaN</td>\n",
       "    </tr>\n",
       "  </tbody>\n",
       "</table>\n",
       "<p>2 rows × 90 columns</p>\n",
       "</div>"
      ],
      "text/plain": [
       "   EPAssetsId Province LicenceNumber               UWI  \\\n",
       "0     2367432  Alberta       0195212  102032605705W400   \n",
       "1     2475476  Alberta       0264445  100023507714W400   \n",
       "\n",
       "                      CurrentOperator  CurrentOperatorParent  \\\n",
       "0  Canadian Natural Resources Limited                    159   \n",
       "1  Canadian Natural Resources Limited                    159   \n",
       "\n",
       "   CurrentOperatorID                            Licensee  \\\n",
       "0                NaN  Canadian Natural Resources Limited   \n",
       "1                NaN           Point Loma Resources Ltd.   \n",
       "\n",
       "   LicenseeParentCompany  LicenseeID  ... UnitID UnitName UnitFlag  \\\n",
       "0                    159         NaN  ...    NaN      NaN       No   \n",
       "1                   8932         NaN  ...    NaN      NaN       No   \n",
       "\n",
       "  Municipality CompletionDate        Agent _Max`Prod`(BOE) _Fracture`Stages  \\\n",
       "0          NaN            NaN  Unspecified             NaN              NaN   \n",
       "1          NaN            NaN  Unspecified             NaN              NaN   \n",
       "\n",
       "       _Open`Hole _Completion`Events  \n",
       "0  CasedCompleted                NaN  \n",
       "1  CasedCompleted                NaN  \n",
       "\n",
       "[2 rows x 90 columns]"
      ]
     },
     "execution_count": 37,
     "metadata": {},
     "output_type": "execute_result"
    }
   ],
   "source": [
    "df_clas_header_test.head(2)\n"
   ]
  },
  {
   "cell_type": "code",
   "execution_count": 40,
   "metadata": {
    "colab": {
     "base_uri": "https://localhost:8080/",
     "height": 109
    },
    "colab_type": "code",
    "collapsed": true,
    "id": "h_n8f-5WQpAS",
    "outputId": "c84d2018-af58-43f0-f120-95dcc255b2fc"
   },
   "outputs": [
    {
     "data": {
      "text/html": [
       "<div>\n",
       "<style scoped>\n",
       "    .dataframe tbody tr th:only-of-type {\n",
       "        vertical-align: middle;\n",
       "    }\n",
       "\n",
       "    .dataframe tbody tr th {\n",
       "        vertical-align: top;\n",
       "    }\n",
       "\n",
       "    .dataframe thead th {\n",
       "        text-align: right;\n",
       "    }\n",
       "</style>\n",
       "<table border=\"1\" class=\"dataframe\">\n",
       "  <thead>\n",
       "    <tr style=\"text-align: right;\">\n",
       "      <th></th>\n",
       "      <th>EPAssetsId</th>\n",
       "      <th>well_status</th>\n",
       "      <th>well_status_code</th>\n",
       "    </tr>\n",
       "  </thead>\n",
       "  <tbody>\n",
       "    <tr>\n",
       "      <td>0</td>\n",
       "      <td>2314251</td>\n",
       "      <td>Suspended</td>\n",
       "      <td>2</td>\n",
       "    </tr>\n",
       "    <tr>\n",
       "      <td>1</td>\n",
       "      <td>2341273</td>\n",
       "      <td>Active</td>\n",
       "      <td>1</td>\n",
       "    </tr>\n",
       "  </tbody>\n",
       "</table>\n",
       "</div>"
      ],
      "text/plain": [
       "   EPAssetsId well_status  well_status_code\n",
       "0     2314251   Suspended                 2\n",
       "1     2341273      Active                 1"
      ]
     },
     "execution_count": 40,
     "metadata": {},
     "output_type": "execute_result"
    }
   ],
   "source": [
    "df_clas_well_class_train.head(2)"
   ]
  },
  {
   "cell_type": "code",
   "execution_count": 41,
   "metadata": {
    "colab": {
     "base_uri": "https://localhost:8080/",
     "height": 109
    },
    "colab_type": "code",
    "collapsed": true,
    "id": "VFcVO7sXQpAU",
    "outputId": "8a7e16c0-6ec9-427a-f39a-e67ca2b0e2f6"
   },
   "outputs": [
    {
     "data": {
      "text/html": [
       "<div>\n",
       "<style scoped>\n",
       "    .dataframe tbody tr th:only-of-type {\n",
       "        vertical-align: middle;\n",
       "    }\n",
       "\n",
       "    .dataframe tbody tr th {\n",
       "        vertical-align: top;\n",
       "    }\n",
       "\n",
       "    .dataframe thead th {\n",
       "        text-align: right;\n",
       "    }\n",
       "</style>\n",
       "<table border=\"1\" class=\"dataframe\">\n",
       "  <thead>\n",
       "    <tr style=\"text-align: right;\">\n",
       "      <th></th>\n",
       "      <th>EPAssetsId</th>\n",
       "      <th>well_status</th>\n",
       "      <th>well_status_code</th>\n",
       "    </tr>\n",
       "  </thead>\n",
       "  <tbody>\n",
       "    <tr>\n",
       "      <td>0</td>\n",
       "      <td>9</td>\n",
       "      <td>Suspended</td>\n",
       "      <td>2</td>\n",
       "    </tr>\n",
       "    <tr>\n",
       "      <td>1</td>\n",
       "      <td>17</td>\n",
       "      <td>Active</td>\n",
       "      <td>1</td>\n",
       "    </tr>\n",
       "  </tbody>\n",
       "</table>\n",
       "</div>"
      ],
      "text/plain": [
       "   EPAssetsId well_status  well_status_code\n",
       "0           9   Suspended                 2\n",
       "1          17      Active                 1"
      ]
     },
     "execution_count": 41,
     "metadata": {},
     "output_type": "execute_result"
    }
   ],
   "source": [
    "df_clas_well_class_validation.head(2)"
   ]
  },
  {
   "cell_type": "code",
   "execution_count": 42,
   "metadata": {
    "colab": {
     "base_uri": "https://localhost:8080/",
     "height": 1000
    },
    "colab_type": "code",
    "collapsed": true,
    "id": "kRFzJkNuQpAW",
    "outputId": "c4c5e591-c317-4393-f9d8-f13aed10604b"
   },
   "outputs": [
    {
     "data": {
      "text/plain": [
       "[['EPAssetsId', 'EPAssetsId', 'EPAssetsId'],\n",
       " ['Province', 'Province', 'Province'],\n",
       " ['LicenceNumber', 'LicenceNumber', 'LicenceNumber'],\n",
       " ['UWI', 'UWI', 'UWI'],\n",
       " ['CurrentOperator', 'CurrentOperator', 'CurrentOperator'],\n",
       " ['CurrentOperatorParent', 'CurrentOperatorParent', 'CurrentOperatorParent'],\n",
       " ['CurrentOperatorID', 'CurrentOperatorID', 'CurrentOperatorID'],\n",
       " ['Licensee', 'Licensee', 'Licensee'],\n",
       " ['LicenseeParentCompany', 'LicenseeParentCompany', 'LicenseeParentCompany'],\n",
       " ['LicenseeID', 'LicenseeID', 'LicenseeID'],\n",
       " ['LicenceDate', 'LicenceDate', 'LicenceDate'],\n",
       " ['WellType', 'WellType', 'WellType'],\n",
       " ['WellTypeStandardised', 'WellTypeStandardised', 'WellTypeStandardised'],\n",
       " ['ConfidentialReleaseDate',\n",
       "  'ConfidentialReleaseDate',\n",
       "  'ConfidentialReleaseDate'],\n",
       " ['SurfAbandonDate', 'SurfAbandonDate', 'SurfAbandonDate'],\n",
       " ['WellName', 'WellName', 'WellName'],\n",
       " ['WellNameAmended', 'WellNameAmended', 'WellNameAmended'],\n",
       " ['Formation', 'Formation', 'Formation'],\n",
       " ['Field', 'Field', 'Field'],\n",
       " ['Pool', 'Pool', 'Pool'],\n",
       " ['SurveySystem', 'SurveySystem', 'SurveySystem'],\n",
       " ['Surf_Location', 'Surf_Location', 'Surf_Location'],\n",
       " ['Surf_Township', 'Surf_Township', 'Surf_Township'],\n",
       " ['Surf_Meridian', 'Surf_Meridian', 'Surf_Meridian'],\n",
       " ['Surf_Range', 'Surf_Range', 'Surf_Range'],\n",
       " ['Surf_Section', 'Surf_Section', 'Surf_Section'],\n",
       " ['Surf_LSD', 'Surf_LSD', 'Surf_LSD'],\n",
       " ['Surf_Longitude', 'Surf_Longitude', 'Surf_Longitude'],\n",
       " ['Surf_Latitude', 'Surf_Latitude', 'Surf_Latitude'],\n",
       " ['Surf_TownshipRange', 'Surf_TownshipRange', 'Surf_TownshipRange'],\n",
       " ['Surf_QuarterUnit', 'Surf_QuarterUnit', 'Surf_QuarterUnit'],\n",
       " ['Surf_Unit', 'Surf_Unit', 'Surf_Unit'],\n",
       " ['Surf_Block', 'Surf_Block', 'Surf_Block'],\n",
       " ['Surf_NTSMapSheet', 'Surf_NTSMapSheet', 'Surf_NTSMapSheet'],\n",
       " ['Surf_Series', 'Surf_Series', 'Surf_Series'],\n",
       " ['Surf_Area', 'Surf_Area', 'Surf_Area'],\n",
       " ['Surf_Sheet', 'Surf_Sheet', 'Surf_Sheet'],\n",
       " ['Surf_QuarterSection', 'Surf_QuarterSection', 'Surf_QuarterSection'],\n",
       " ['BH_Location', 'BH_Location', 'BH_Location'],\n",
       " ['BH_TownshipRange', 'BH_TownshipRange', 'BH_TownshipRange'],\n",
       " ['BH_QuarterUnit', 'BH_QuarterUnit', 'BH_QuarterUnit'],\n",
       " ['BH_Unit', 'BH_Unit', 'BH_Unit'],\n",
       " ['BH_Block', 'BH_Block', 'BH_Block'],\n",
       " ['BH_NTSMapSheet', 'BH_NTSMapSheet', 'BH_NTSMapSheet'],\n",
       " ['BH_Series', 'BH_Series', 'BH_Series'],\n",
       " ['BH_Area', 'BH_Area', 'BH_Area'],\n",
       " ['BH_Sheet', 'BH_Sheet', 'BH_Sheet'],\n",
       " ['BH_QuarterSection', 'BH_QuarterSection', 'BH_QuarterSection'],\n",
       " ['BH_Longitude', 'BH_Longitude', 'BH_Longitude'],\n",
       " ['BH_Latitude', 'BH_Latitude', 'BH_Latitude'],\n",
       " ['BH_Township', 'BH_Township', 'BH_Township'],\n",
       " ['BH_Meridian', 'BH_Meridian', 'BH_Meridian'],\n",
       " ['BH_Range', 'BH_Range', 'BH_Range'],\n",
       " ['BH_Section', 'BH_Section', 'BH_Section'],\n",
       " ['BH_LSD', 'BH_LSD', 'BH_LSD'],\n",
       " ['GroundElevation', 'GroundElevation', 'GroundElevation'],\n",
       " ['KBElevation', 'KBElevation', 'KBElevation'],\n",
       " ['TotalDepth', 'TotalDepth', 'TotalDepth'],\n",
       " ['LaheeClass', 'LaheeClass', 'LaheeClass'],\n",
       " ['Confidential', 'Confidential', 'Confidential'],\n",
       " ['SurfaceOwner', 'SurfaceOwner', 'SurfaceOwner'],\n",
       " ['OSArea', 'OSArea', 'OSArea'],\n",
       " ['OSDeposit', 'OSDeposit', 'OSDeposit'],\n",
       " ['DrillingContractor', 'DrillingContractor', 'DrillingContractor'],\n",
       " ['SpudDate', 'SpudDate', 'SpudDate'],\n",
       " ['FinalDrillDate', 'FinalDrillDate', 'FinalDrillDate'],\n",
       " ['RigReleaseDate', 'RigReleaseDate', 'RigReleaseDate'],\n",
       " ['DaysDrilling', 'DaysDrilling', 'DaysDrilling'],\n",
       " ['DrillMetresPerDay', 'DrillMetresPerDay', 'DrillMetresPerDay'],\n",
       " ['TVD', 'TVD', 'TVD'],\n",
       " ['WellProfile', 'WellProfile', 'WellProfile'],\n",
       " ['WellSymbPt1', 'WellSymbPt1', 'WellSymbPt1'],\n",
       " ['Country', 'Country', 'Country'],\n",
       " ['RegulatoryAgency', 'RegulatoryAgency', 'RegulatoryAgency'],\n",
       " ['NumberofWells', 'NumberofWells', 'NumberofWells'],\n",
       " ['PSACAreaCode', 'PSACAreaCode', 'PSACAreaCode'],\n",
       " ['PSACAreaName', 'PSACAreaName', 'PSACAreaName'],\n",
       " ['ProjectedDepth', 'ProjectedDepth', 'ProjectedDepth'],\n",
       " ['StatusDate', 'StatusDate', 'StatusDate'],\n",
       " ['StatusSource', 'StatusSource', 'StatusSource'],\n",
       " ['UnitID', 'UnitID', 'UnitID'],\n",
       " ['UnitName', 'UnitName', 'UnitName'],\n",
       " ['UnitFlag', 'UnitFlag', 'UnitFlag'],\n",
       " ['Municipality', 'Municipality', 'Municipality'],\n",
       " ['CompletionDate', 'CompletionDate', 'CompletionDate'],\n",
       " ['Agent', 'Agent', 'Agent'],\n",
       " ['_Max`Prod`(BOE)', '_Max`Prod`(BOE)', '_Max`Prod`(BOE)'],\n",
       " ['_Fracture`Stages', '_Fracture`Stages', '_Fracture`Stages'],\n",
       " ['_Open`Hole', '_Open`Hole', '_Open`Hole'],\n",
       " ['_Completion`Events', '_Completion`Events', '_Completion`Events']]"
      ]
     },
     "execution_count": 42,
     "metadata": {},
     "output_type": "execute_result"
    }
   ],
   "source": [
    "headers = []\n",
    "for i in range(len(df_clas_header_train.columns)):\n",
    "  headers.append([df_clas_header_train.columns[i],df_clas_header_validation.columns[i],df_clas_header_test.columns[i]])\n",
    "headers"
   ]
  },
  {
   "cell_type": "markdown",
   "metadata": {
    "colab_type": "text",
    "id": "c_gkgZMUQpAY"
   },
   "source": [
    "## Header Test file"
   ]
  },
  {
   "cell_type": "code",
   "execution_count": 43,
   "metadata": {
    "colab": {
     "base_uri": "https://localhost:8080/",
     "height": 32
    },
    "colab_type": "code",
    "id": "nVheDwRdQpAZ",
    "outputId": "ec5f6924-1300-4051-dc8f-fe6b73f183b3"
   },
   "outputs": [
    {
     "data": {
      "text/plain": [
       "(118076, 90)"
      ]
     },
     "execution_count": 43,
     "metadata": {},
     "output_type": "execute_result"
    }
   ],
   "source": [
    "df_clas_header_test.shape"
   ]
  },
  {
   "cell_type": "code",
   "execution_count": 44,
   "metadata": {
    "colab": {
     "base_uri": "https://localhost:8080/",
     "height": 1000
    },
    "colab_type": "code",
    "collapsed": true,
    "id": "rmoy-HJZQpAc",
    "outputId": "fe5851a6-8cda-45d6-81a8-146e31eb6c11"
   },
   "outputs": [
    {
     "data": {
      "text/plain": [
       "EPAssetsId            118076\n",
       "Province                   4\n",
       "LicenceNumber         112547\n",
       "UWI                   116725\n",
       "CurrentOperator          860\n",
       "                       ...  \n",
       "Agent                    356\n",
       "_Max`Prod`(BOE)        21636\n",
       "_Fracture`Stages          89\n",
       "_Open`Hole                 2\n",
       "_Completion`Events       174\n",
       "Length: 90, dtype: int64"
      ]
     },
     "execution_count": 44,
     "metadata": {},
     "output_type": "execute_result"
    }
   ],
   "source": [
    "df_clas_header_test.nunique()"
   ]
  },
  {
   "cell_type": "code",
   "execution_count": 45,
   "metadata": {
    "colab": {
     "base_uri": "https://localhost:8080/",
     "height": 1000
    },
    "colab_type": "code",
    "collapsed": true,
    "id": "LIZ5PvUcQpAf",
    "outputId": "f9f8d608-4944-492d-c088-137bf369247d"
   },
   "outputs": [
    {
     "name": "stdout",
     "output_type": "stream",
     "text": [
      "<class 'pandas.core.frame.DataFrame'>\n",
      "RangeIndex: 118076 entries, 0 to 118075\n",
      "Data columns (total 90 columns):\n",
      "EPAssetsId                 118076 non-null int64\n",
      "Province                   118076 non-null object\n",
      "LicenceNumber              118076 non-null object\n",
      "UWI                        118076 non-null object\n",
      "CurrentOperator            118076 non-null object\n",
      "CurrentOperatorParent      118076 non-null int64\n",
      "CurrentOperatorID          25138 non-null float64\n",
      "Licensee                   118076 non-null object\n",
      "LicenseeParentCompany      118076 non-null int64\n",
      "LicenseeID                 1667 non-null float64\n",
      "LicenceDate                118074 non-null object\n",
      "WellType                   118076 non-null object\n",
      "WellTypeStandardised       118076 non-null object\n",
      "ConfidentialReleaseDate    62998 non-null object\n",
      "SurfAbandonDate            26822 non-null object\n",
      "WellName                   117976 non-null object\n",
      "WellNameAmended            117976 non-null object\n",
      "Formation                  118076 non-null object\n",
      "Field                      118076 non-null object\n",
      "Pool                       118031 non-null object\n",
      "SurveySystem               118076 non-null object\n",
      "Surf_Location              118014 non-null object\n",
      "Surf_Township              118076 non-null object\n",
      "Surf_Meridian              118076 non-null object\n",
      "Surf_Range                 118076 non-null object\n",
      "Surf_Section               118076 non-null object\n",
      "Surf_LSD                   118076 non-null object\n",
      "Surf_Longitude             118076 non-null float64\n",
      "Surf_Latitude              118075 non-null float64\n",
      "Surf_TownshipRange         118076 non-null object\n",
      "Surf_QuarterUnit           118076 non-null object\n",
      "Surf_Unit                  118076 non-null object\n",
      "Surf_Block                 118076 non-null object\n",
      "Surf_NTSMapSheet           118076 non-null object\n",
      "Surf_Series                118076 non-null object\n",
      "Surf_Area                  118076 non-null object\n",
      "Surf_Sheet                 118076 non-null object\n",
      "Surf_QuarterSection        118076 non-null object\n",
      "BH_Location                118076 non-null object\n",
      "BH_TownshipRange           118076 non-null object\n",
      "BH_QuarterUnit             118075 non-null object\n",
      "BH_Unit                    118075 non-null object\n",
      "BH_Block                   118075 non-null object\n",
      "BH_NTSMapSheet             118076 non-null object\n",
      "BH_Series                  118075 non-null object\n",
      "BH_Area                    118075 non-null object\n",
      "BH_Sheet                   118075 non-null object\n",
      "BH_QuarterSection          111761 non-null object\n",
      "BH_Longitude               111198 non-null float64\n",
      "BH_Latitude                111198 non-null float64\n",
      "BH_Township                118074 non-null object\n",
      "BH_Meridian                118076 non-null object\n",
      "BH_Range                   118074 non-null object\n",
      "BH_Section                 118074 non-null object\n",
      "BH_LSD                     118074 non-null object\n",
      "GroundElevation            118017 non-null float64\n",
      "KBElevation                116054 non-null float64\n",
      "TotalDepth                 116727 non-null float64\n",
      "LaheeClass                 118076 non-null object\n",
      "Confidential               118076 non-null object\n",
      "SurfaceOwner               115971 non-null object\n",
      "OSArea                     111582 non-null object\n",
      "OSDeposit                  111582 non-null object\n",
      "DrillingContractor         117733 non-null object\n",
      "SpudDate                   113070 non-null object\n",
      "FinalDrillDate             107921 non-null object\n",
      "RigReleaseDate             95545 non-null object\n",
      "DaysDrilling               112785 non-null float64\n",
      "DrillMetresPerDay          118070 non-null float64\n",
      "TVD                        110450 non-null float64\n",
      "WellProfile                118076 non-null object\n",
      "WellSymbPt1                118076 non-null object\n",
      "Country                    118076 non-null object\n",
      "RegulatoryAgency           118076 non-null object\n",
      "NumberofWells              118076 non-null int64\n",
      "PSACAreaCode               118076 non-null object\n",
      "PSACAreaName               118076 non-null object\n",
      "ProjectedDepth             84586 non-null float64\n",
      "StatusDate                 118057 non-null object\n",
      "StatusSource               118076 non-null object\n",
      "UnitID                     9312 non-null object\n",
      "UnitName                   9312 non-null object\n",
      "UnitFlag                   111537 non-null object\n",
      "Municipality               24326 non-null object\n",
      "CompletionDate             23871 non-null object\n",
      "Agent                      118076 non-null object\n",
      "_Max`Prod`(BOE)            40188 non-null float64\n",
      "_Fracture`Stages           1595 non-null float64\n",
      "_Open`Hole                 118076 non-null object\n",
      "_Completion`Events         3422 non-null float64\n",
      "dtypes: float64(16), int64(4), object(70)\n",
      "memory usage: 81.1+ MB\n"
     ]
    }
   ],
   "source": [
    "df_clas_header_test.info()"
   ]
  },
  {
   "cell_type": "markdown",
   "metadata": {
    "colab_type": "text",
    "id": "nqjnPBSCQpAh"
   },
   "source": [
    "## Header Validation File"
   ]
  },
  {
   "cell_type": "code",
   "execution_count": 46,
   "metadata": {
    "colab": {
     "base_uri": "https://localhost:8080/",
     "height": 32
    },
    "colab_type": "code",
    "id": "loalowqwQpAi",
    "outputId": "7a3693a2-71b6-46ad-c45c-c0bc648a0669"
   },
   "outputs": [
    {
     "data": {
      "text/plain": [
       "(132131, 90)"
      ]
     },
     "execution_count": 46,
     "metadata": {},
     "output_type": "execute_result"
    }
   ],
   "source": [
    "df_clas_header_validation.shape"
   ]
  },
  {
   "cell_type": "code",
   "execution_count": 47,
   "metadata": {
    "colab": {
     "base_uri": "https://localhost:8080/",
     "height": 1000
    },
    "colab_type": "code",
    "collapsed": true,
    "id": "UNwrji9zQpAk",
    "outputId": "9f93d9a7-169d-4e6d-efec-557d1c30cad4"
   },
   "outputs": [
    {
     "data": {
      "text/plain": [
       "EPAssetsId            132131\n",
       "Province                   4\n",
       "LicenceNumber         125962\n",
       "UWI                   130765\n",
       "CurrentOperator          913\n",
       "                       ...  \n",
       "Agent                    439\n",
       "_Max`Prod`(BOE)        21560\n",
       "_Fracture`Stages          86\n",
       "_Open`Hole                 2\n",
       "_Completion`Events       170\n",
       "Length: 90, dtype: int64"
      ]
     },
     "execution_count": 47,
     "metadata": {},
     "output_type": "execute_result"
    }
   ],
   "source": [
    "df_clas_header_validation.nunique()"
   ]
  },
  {
   "cell_type": "code",
   "execution_count": 48,
   "metadata": {
    "colab": {
     "base_uri": "https://localhost:8080/",
     "height": 1000
    },
    "colab_type": "code",
    "collapsed": true,
    "id": "DGNHHMmZQpAm",
    "outputId": "baa22303-8cc0-4adf-a09d-fcf325c0c91d"
   },
   "outputs": [
    {
     "name": "stdout",
     "output_type": "stream",
     "text": [
      "<class 'pandas.core.frame.DataFrame'>\n",
      "RangeIndex: 132131 entries, 0 to 132130\n",
      "Data columns (total 90 columns):\n",
      "EPAssetsId                 132131 non-null int64\n",
      "Province                   132131 non-null object\n",
      "LicenceNumber              132131 non-null object\n",
      "UWI                        132130 non-null object\n",
      "CurrentOperator            132131 non-null object\n",
      "CurrentOperatorParent      132131 non-null int64\n",
      "CurrentOperatorID          27993 non-null float64\n",
      "Licensee                   132131 non-null object\n",
      "LicenseeParentCompany      132131 non-null int64\n",
      "LicenseeID                 2031 non-null float64\n",
      "LicenceDate                132126 non-null object\n",
      "WellType                   132131 non-null object\n",
      "WellTypeStandardised       132131 non-null object\n",
      "ConfidentialReleaseDate    69272 non-null object\n",
      "SurfAbandonDate            35942 non-null object\n",
      "WellName                   132034 non-null object\n",
      "WellNameAmended            132034 non-null object\n",
      "Formation                  132131 non-null object\n",
      "Field                      132131 non-null object\n",
      "Pool                       132086 non-null object\n",
      "SurveySystem               132131 non-null object\n",
      "Surf_Location              132066 non-null object\n",
      "Surf_Township              132131 non-null object\n",
      "Surf_Meridian              132131 non-null object\n",
      "Surf_Range                 132131 non-null object\n",
      "Surf_Section               132131 non-null object\n",
      "Surf_LSD                   132131 non-null object\n",
      "Surf_Longitude             132131 non-null float64\n",
      "Surf_Latitude              132131 non-null float64\n",
      "Surf_TownshipRange         132131 non-null object\n",
      "Surf_QuarterUnit           132131 non-null object\n",
      "Surf_Unit                  132131 non-null object\n",
      "Surf_Block                 132131 non-null object\n",
      "Surf_NTSMapSheet           132131 non-null object\n",
      "Surf_Series                132131 non-null object\n",
      "Surf_Area                  132131 non-null object\n",
      "Surf_Sheet                 132131 non-null object\n",
      "Surf_QuarterSection        132131 non-null object\n",
      "BH_Location                132131 non-null object\n",
      "BH_TownshipRange           132131 non-null object\n",
      "BH_QuarterUnit             132131 non-null object\n",
      "BH_Unit                    132131 non-null object\n",
      "BH_Block                   132131 non-null object\n",
      "BH_NTSMapSheet             132131 non-null object\n",
      "BH_Series                  132131 non-null object\n",
      "BH_Area                    132131 non-null object\n",
      "BH_Sheet                   132131 non-null object\n",
      "BH_QuarterSection          125660 non-null object\n",
      "BH_Longitude               125082 non-null float64\n",
      "BH_Latitude                125082 non-null float64\n",
      "BH_Township                132130 non-null object\n",
      "BH_Meridian                132130 non-null object\n",
      "BH_Range                   132130 non-null object\n",
      "BH_Section                 132130 non-null object\n",
      "BH_LSD                     132130 non-null object\n",
      "GroundElevation            132063 non-null float64\n",
      "KBElevation                130049 non-null float64\n",
      "TotalDepth                 130804 non-null float64\n",
      "LaheeClass                 132131 non-null object\n",
      "Confidential               132131 non-null object\n",
      "SurfaceOwner               129623 non-null object\n",
      "OSArea                     125492 non-null object\n",
      "OSDeposit                  125492 non-null object\n",
      "DrillingContractor         131793 non-null object\n",
      "SpudDate                   126993 non-null object\n",
      "FinalDrillDate             121664 non-null object\n",
      "RigReleaseDate             103043 non-null object\n",
      "DaysDrilling               126724 non-null float64\n",
      "DrillMetresPerDay          132123 non-null float64\n",
      "TVD                        124373 non-null float64\n",
      "WellProfile                132131 non-null object\n",
      "WellSymbPt1                132131 non-null object\n",
      "Country                    132131 non-null object\n",
      "RegulatoryAgency           132131 non-null object\n",
      "NumberofWells              132131 non-null int64\n",
      "PSACAreaCode               132131 non-null object\n",
      "PSACAreaName               132131 non-null object\n",
      "ProjectedDepth             88458 non-null float64\n",
      "StatusDate                 132108 non-null object\n",
      "StatusSource               132131 non-null object\n",
      "UnitID                     9794 non-null object\n",
      "UnitName                   9794 non-null object\n",
      "UnitFlag                   125445 non-null object\n",
      "Municipality               25908 non-null object\n",
      "CompletionDate             24530 non-null object\n",
      "Agent                      132131 non-null object\n",
      "_Max`Prod`(BOE)            40211 non-null float64\n",
      "_Fracture`Stages           1630 non-null float64\n",
      "_Open`Hole                 132131 non-null object\n",
      "_Completion`Events         3487 non-null float64\n",
      "dtypes: float64(16), int64(4), object(70)\n",
      "memory usage: 90.7+ MB\n"
     ]
    }
   ],
   "source": [
    "df_clas_header_validation.info()"
   ]
  },
  {
   "cell_type": "code",
   "execution_count": null,
   "metadata": {
    "colab": {},
    "colab_type": "code",
    "id": "NkZ5kUiIQpAp"
   },
   "outputs": [],
   "source": []
  },
  {
   "cell_type": "markdown",
   "metadata": {
    "colab_type": "text",
    "id": "gQyIdpo8QpAs"
   },
   "source": [
    "## Header train File"
   ]
  },
  {
   "cell_type": "code",
   "execution_count": 49,
   "metadata": {
    "colab": {
     "base_uri": "https://localhost:8080/",
     "height": 32
    },
    "colab_type": "code",
    "id": "cT1j0IlrQpAs",
    "outputId": "707ab1d7-ef3f-4687-fd72-360125485ba4"
   },
   "outputs": [
    {
     "data": {
      "text/plain": [
       "(588673, 90)"
      ]
     },
     "execution_count": 49,
     "metadata": {},
     "output_type": "execute_result"
    }
   ],
   "source": [
    "df_clas_header_train.shape"
   ]
  },
  {
   "cell_type": "code",
   "execution_count": 50,
   "metadata": {
    "colab": {
     "base_uri": "https://localhost:8080/",
     "height": 1000
    },
    "colab_type": "code",
    "collapsed": true,
    "id": "xcEMB_xKQpAu",
    "outputId": "3c3cbf7f-1703-4b71-f587-15c53ebc2710"
   },
   "outputs": [
    {
     "data": {
      "text/plain": [
       "EPAssetsId            588673\n",
       "Province                   4\n",
       "LicenceNumber         485571\n",
       "UWI                   582171\n",
       "CurrentOperator         1468\n",
       "                       ...  \n",
       "Agent                    929\n",
       "_Max`Prod`(BOE)        86073\n",
       "_Fracture`Stages         131\n",
       "_Open`Hole                 2\n",
       "_Completion`Events       305\n",
       "Length: 90, dtype: int64"
      ]
     },
     "execution_count": 50,
     "metadata": {},
     "output_type": "execute_result"
    }
   ],
   "source": [
    "df_clas_header_train.nunique()"
   ]
  },
  {
   "cell_type": "code",
   "execution_count": 51,
   "metadata": {
    "colab": {
     "base_uri": "https://localhost:8080/",
     "height": 1000
    },
    "colab_type": "code",
    "collapsed": true,
    "id": "UprXlTQpQpAw",
    "outputId": "d103e3d2-906e-423e-83ab-716152551eb3"
   },
   "outputs": [
    {
     "name": "stdout",
     "output_type": "stream",
     "text": [
      "<class 'pandas.core.frame.DataFrame'>\n",
      "RangeIndex: 588673 entries, 0 to 588672\n",
      "Data columns (total 90 columns):\n",
      "EPAssetsId                 588673 non-null int64\n",
      "Province                   588673 non-null object\n",
      "LicenceNumber              588673 non-null object\n",
      "UWI                        588673 non-null object\n",
      "CurrentOperator            588673 non-null object\n",
      "CurrentOperatorParent      588673 non-null int64\n",
      "CurrentOperatorID          124038 non-null float64\n",
      "Licensee                   588673 non-null object\n",
      "LicenseeParentCompany      588673 non-null int64\n",
      "LicenseeID                 8537 non-null float64\n",
      "LicenceDate                588664 non-null object\n",
      "WellType                   588673 non-null object\n",
      "WellTypeStandardised       588673 non-null object\n",
      "ConfidentialReleaseDate    310703 non-null object\n",
      "SurfAbandonDate            149148 non-null object\n",
      "WellName                   588206 non-null object\n",
      "WellNameAmended            588206 non-null object\n",
      "Formation                  588673 non-null object\n",
      "Field                      588673 non-null object\n",
      "Pool                       588442 non-null object\n",
      "SurveySystem               588673 non-null object\n",
      "Surf_Location              588366 non-null object\n",
      "Surf_Township              588673 non-null object\n",
      "Surf_Meridian              588673 non-null object\n",
      "Surf_Range                 588673 non-null object\n",
      "Surf_Section               588673 non-null object\n",
      "Surf_LSD                   588673 non-null object\n",
      "Surf_Longitude             588673 non-null float64\n",
      "Surf_Latitude              588673 non-null float64\n",
      "Surf_TownshipRange         588673 non-null object\n",
      "Surf_QuarterUnit           588673 non-null object\n",
      "Surf_Unit                  588673 non-null object\n",
      "Surf_Block                 588673 non-null object\n",
      "Surf_NTSMapSheet           588673 non-null object\n",
      "Surf_Series                588673 non-null object\n",
      "Surf_Area                  588673 non-null object\n",
      "Surf_Sheet                 588673 non-null object\n",
      "Surf_QuarterSection        588673 non-null object\n",
      "BH_Location                588673 non-null object\n",
      "BH_TownshipRange           588673 non-null object\n",
      "BH_QuarterUnit             588673 non-null object\n",
      "BH_Unit                    588673 non-null object\n",
      "BH_Block                   588673 non-null object\n",
      "BH_NTSMapSheet             588673 non-null object\n",
      "BH_Series                  588673 non-null object\n",
      "BH_Area                    588673 non-null object\n",
      "BH_Sheet                   588673 non-null object\n",
      "BH_QuarterSection          558395 non-null object\n",
      "BH_Longitude               555782 non-null float64\n",
      "BH_Latitude                555782 non-null float64\n",
      "BH_Township                588668 non-null object\n",
      "BH_Meridian                588673 non-null object\n",
      "BH_Range                   588668 non-null object\n",
      "BH_Section                 588668 non-null object\n",
      "BH_LSD                     588668 non-null object\n",
      "GroundElevation            588371 non-null float64\n",
      "KBElevation                579272 non-null float64\n",
      "TotalDepth                 582541 non-null float64\n",
      "LaheeClass                 588673 non-null object\n",
      "Confidential               588673 non-null object\n",
      "SurfaceOwner               577873 non-null object\n",
      "OSArea                     557634 non-null object\n",
      "OSDeposit                  557634 non-null object\n",
      "DrillingContractor         587108 non-null object\n",
      "SpudDate                   564917 non-null object\n",
      "FinalDrillDate             540114 non-null object\n",
      "RigReleaseDate             465455 non-null object\n",
      "DaysDrilling               563617 non-null float64\n",
      "DrillMetresPerDay          588630 non-null float64\n",
      "TVD                        552435 non-null float64\n",
      "WellProfile                588673 non-null object\n",
      "WellSymbPt1                588673 non-null object\n",
      "Country                    588673 non-null object\n",
      "RegulatoryAgency           588673 non-null object\n",
      "NumberofWells              588673 non-null int64\n",
      "PSACAreaCode               588673 non-null object\n",
      "PSACAreaName               588673 non-null object\n",
      "ProjectedDepth             404812 non-null float64\n",
      "StatusDate                 588603 non-null object\n",
      "StatusSource               588673 non-null object\n",
      "UnitID                     44299 non-null object\n",
      "UnitName                   44299 non-null object\n",
      "UnitFlag                   557380 non-null object\n",
      "Municipality               116651 non-null object\n",
      "CompletionDate             113144 non-null object\n",
      "Agent                      588673 non-null object\n",
      "_Max`Prod`(BOE)            187602 non-null float64\n",
      "_Fracture`Stages           7685 non-null float64\n",
      "_Open`Hole                 588673 non-null object\n",
      "_Completion`Events         16329 non-null float64\n",
      "dtypes: float64(16), int64(4), object(70)\n",
      "memory usage: 404.2+ MB\n"
     ]
    }
   ],
   "source": [
    "df_clas_header_train.info()"
   ]
  },
  {
   "cell_type": "code",
   "execution_count": null,
   "metadata": {
    "colab": {},
    "colab_type": "code",
    "id": "8W2_8cEeQpAy"
   },
   "outputs": [],
   "source": []
  },
  {
   "cell_type": "markdown",
   "metadata": {
    "colab_type": "text",
    "id": "JX1J_w-4QpAz"
   },
   "source": [
    "## Well class train File"
   ]
  },
  {
   "cell_type": "code",
   "execution_count": 52,
   "metadata": {
    "colab": {
     "base_uri": "https://localhost:8080/",
     "height": 32
    },
    "colab_type": "code",
    "id": "bXsgCwU3QpA0",
    "outputId": "fbb8c025-0c94-4d54-d504-cfa3c8d0af88"
   },
   "outputs": [
    {
     "data": {
      "text/plain": [
       "(588673, 3)"
      ]
     },
     "execution_count": 52,
     "metadata": {},
     "output_type": "execute_result"
    }
   ],
   "source": [
    "df_clas_well_class_train.shape"
   ]
  },
  {
   "cell_type": "code",
   "execution_count": 53,
   "metadata": {
    "colab": {
     "base_uri": "https://localhost:8080/",
     "height": 82
    },
    "colab_type": "code",
    "collapsed": true,
    "id": "Xrj6osIcQpA1",
    "outputId": "d79a9d40-ad04-494f-a9e3-0b3f8acc8273"
   },
   "outputs": [
    {
     "data": {
      "text/plain": [
       "EPAssetsId          588673\n",
       "well_status              3\n",
       "well_status_code         3\n",
       "dtype: int64"
      ]
     },
     "execution_count": 53,
     "metadata": {},
     "output_type": "execute_result"
    }
   ],
   "source": [
    "df_clas_well_class_train.nunique()"
   ]
  },
  {
   "cell_type": "code",
   "execution_count": 54,
   "metadata": {
    "colab": {
     "base_uri": "https://localhost:8080/",
     "height": 148
    },
    "colab_type": "code",
    "collapsed": true,
    "id": "kUI4ebSgQpA3",
    "outputId": "b0fd9c3e-daee-4934-981c-f72c9dbd90d7"
   },
   "outputs": [
    {
     "name": "stdout",
     "output_type": "stream",
     "text": [
      "<class 'pandas.core.frame.DataFrame'>\n",
      "RangeIndex: 588673 entries, 0 to 588672\n",
      "Data columns (total 3 columns):\n",
      "EPAssetsId          588673 non-null int64\n",
      "well_status         588673 non-null object\n",
      "well_status_code    588673 non-null int64\n",
      "dtypes: int64(2), object(1)\n",
      "memory usage: 13.5+ MB\n"
     ]
    }
   ],
   "source": [
    "df_clas_well_class_train.info()"
   ]
  },
  {
   "cell_type": "code",
   "execution_count": 55,
   "metadata": {
    "colab": {
     "base_uri": "https://localhost:8080/",
     "height": 1000
    },
    "colab_type": "code",
    "collapsed": true,
    "id": "Vcvp_aXvQpA5",
    "outputId": "27828b41-401a-4648-c754-ddb47d551a4a"
   },
   "outputs": [
    {
     "data": {
      "text/html": [
       "<div>\n",
       "<style scoped>\n",
       "    .dataframe tbody tr th:only-of-type {\n",
       "        vertical-align: middle;\n",
       "    }\n",
       "\n",
       "    .dataframe tbody tr th {\n",
       "        vertical-align: top;\n",
       "    }\n",
       "\n",
       "    .dataframe thead th {\n",
       "        text-align: right;\n",
       "    }\n",
       "</style>\n",
       "<table border=\"1\" class=\"dataframe\">\n",
       "  <thead>\n",
       "    <tr style=\"text-align: right;\">\n",
       "      <th></th>\n",
       "      <th>EPAssetsId</th>\n",
       "      <th>well_status</th>\n",
       "      <th>well_status_code</th>\n",
       "    </tr>\n",
       "  </thead>\n",
       "  <tbody>\n",
       "    <tr>\n",
       "      <td>0</td>\n",
       "      <td>2314251</td>\n",
       "      <td>Suspended</td>\n",
       "      <td>2</td>\n",
       "    </tr>\n",
       "    <tr>\n",
       "      <td>1</td>\n",
       "      <td>2341273</td>\n",
       "      <td>Active</td>\n",
       "      <td>1</td>\n",
       "    </tr>\n",
       "    <tr>\n",
       "      <td>2</td>\n",
       "      <td>1086314</td>\n",
       "      <td>Abandoned</td>\n",
       "      <td>0</td>\n",
       "    </tr>\n",
       "    <tr>\n",
       "      <td>3</td>\n",
       "      <td>2210835</td>\n",
       "      <td>Abandoned</td>\n",
       "      <td>0</td>\n",
       "    </tr>\n",
       "    <tr>\n",
       "      <td>4</td>\n",
       "      <td>40946</td>\n",
       "      <td>Suspended</td>\n",
       "      <td>2</td>\n",
       "    </tr>\n",
       "    <tr>\n",
       "      <td>5</td>\n",
       "      <td>1061238</td>\n",
       "      <td>Active</td>\n",
       "      <td>1</td>\n",
       "    </tr>\n",
       "    <tr>\n",
       "      <td>6</td>\n",
       "      <td>1010329</td>\n",
       "      <td>Active</td>\n",
       "      <td>1</td>\n",
       "    </tr>\n",
       "    <tr>\n",
       "      <td>7</td>\n",
       "      <td>2012754</td>\n",
       "      <td>Abandoned</td>\n",
       "      <td>0</td>\n",
       "    </tr>\n",
       "    <tr>\n",
       "      <td>8</td>\n",
       "      <td>2133646</td>\n",
       "      <td>Abandoned</td>\n",
       "      <td>0</td>\n",
       "    </tr>\n",
       "    <tr>\n",
       "      <td>9</td>\n",
       "      <td>2569043</td>\n",
       "      <td>Active</td>\n",
       "      <td>1</td>\n",
       "    </tr>\n",
       "    <tr>\n",
       "      <td>10</td>\n",
       "      <td>2461270</td>\n",
       "      <td>Suspended</td>\n",
       "      <td>2</td>\n",
       "    </tr>\n",
       "    <tr>\n",
       "      <td>11</td>\n",
       "      <td>1150331</td>\n",
       "      <td>Active</td>\n",
       "      <td>1</td>\n",
       "    </tr>\n",
       "    <tr>\n",
       "      <td>12</td>\n",
       "      <td>1093024</td>\n",
       "      <td>Active</td>\n",
       "      <td>1</td>\n",
       "    </tr>\n",
       "    <tr>\n",
       "      <td>13</td>\n",
       "      <td>1118037</td>\n",
       "      <td>Abandoned</td>\n",
       "      <td>0</td>\n",
       "    </tr>\n",
       "    <tr>\n",
       "      <td>14</td>\n",
       "      <td>2370950</td>\n",
       "      <td>Suspended</td>\n",
       "      <td>2</td>\n",
       "    </tr>\n",
       "    <tr>\n",
       "      <td>15</td>\n",
       "      <td>1045997</td>\n",
       "      <td>Active</td>\n",
       "      <td>1</td>\n",
       "    </tr>\n",
       "    <tr>\n",
       "      <td>16</td>\n",
       "      <td>2105311</td>\n",
       "      <td>Abandoned</td>\n",
       "      <td>0</td>\n",
       "    </tr>\n",
       "    <tr>\n",
       "      <td>17</td>\n",
       "      <td>1082233</td>\n",
       "      <td>Abandoned</td>\n",
       "      <td>0</td>\n",
       "    </tr>\n",
       "    <tr>\n",
       "      <td>18</td>\n",
       "      <td>2484260</td>\n",
       "      <td>Abandoned</td>\n",
       "      <td>0</td>\n",
       "    </tr>\n",
       "    <tr>\n",
       "      <td>19</td>\n",
       "      <td>1104272</td>\n",
       "      <td>Suspended</td>\n",
       "      <td>2</td>\n",
       "    </tr>\n",
       "    <tr>\n",
       "      <td>20</td>\n",
       "      <td>2438366</td>\n",
       "      <td>Active</td>\n",
       "      <td>1</td>\n",
       "    </tr>\n",
       "    <tr>\n",
       "      <td>21</td>\n",
       "      <td>2585489</td>\n",
       "      <td>Active</td>\n",
       "      <td>1</td>\n",
       "    </tr>\n",
       "    <tr>\n",
       "      <td>22</td>\n",
       "      <td>2556099</td>\n",
       "      <td>Abandoned</td>\n",
       "      <td>0</td>\n",
       "    </tr>\n",
       "    <tr>\n",
       "      <td>23</td>\n",
       "      <td>2359955</td>\n",
       "      <td>Abandoned</td>\n",
       "      <td>0</td>\n",
       "    </tr>\n",
       "    <tr>\n",
       "      <td>24</td>\n",
       "      <td>2280993</td>\n",
       "      <td>Abandoned</td>\n",
       "      <td>0</td>\n",
       "    </tr>\n",
       "    <tr>\n",
       "      <td>25</td>\n",
       "      <td>2405272</td>\n",
       "      <td>Abandoned</td>\n",
       "      <td>0</td>\n",
       "    </tr>\n",
       "    <tr>\n",
       "      <td>26</td>\n",
       "      <td>1135704</td>\n",
       "      <td>Active</td>\n",
       "      <td>1</td>\n",
       "    </tr>\n",
       "    <tr>\n",
       "      <td>27</td>\n",
       "      <td>2083371</td>\n",
       "      <td>Active</td>\n",
       "      <td>1</td>\n",
       "    </tr>\n",
       "    <tr>\n",
       "      <td>28</td>\n",
       "      <td>1148297</td>\n",
       "      <td>Active</td>\n",
       "      <td>1</td>\n",
       "    </tr>\n",
       "    <tr>\n",
       "      <td>29</td>\n",
       "      <td>2040816</td>\n",
       "      <td>Active</td>\n",
       "      <td>1</td>\n",
       "    </tr>\n",
       "    <tr>\n",
       "      <td>30</td>\n",
       "      <td>2281780</td>\n",
       "      <td>Abandoned</td>\n",
       "      <td>0</td>\n",
       "    </tr>\n",
       "    <tr>\n",
       "      <td>31</td>\n",
       "      <td>2066969</td>\n",
       "      <td>Abandoned</td>\n",
       "      <td>0</td>\n",
       "    </tr>\n",
       "    <tr>\n",
       "      <td>32</td>\n",
       "      <td>2236001</td>\n",
       "      <td>Suspended</td>\n",
       "      <td>2</td>\n",
       "    </tr>\n",
       "    <tr>\n",
       "      <td>33</td>\n",
       "      <td>2564023</td>\n",
       "      <td>Abandoned</td>\n",
       "      <td>0</td>\n",
       "    </tr>\n",
       "    <tr>\n",
       "      <td>34</td>\n",
       "      <td>2365118</td>\n",
       "      <td>Active</td>\n",
       "      <td>1</td>\n",
       "    </tr>\n",
       "    <tr>\n",
       "      <td>35</td>\n",
       "      <td>2102467</td>\n",
       "      <td>Suspended</td>\n",
       "      <td>2</td>\n",
       "    </tr>\n",
       "    <tr>\n",
       "      <td>36</td>\n",
       "      <td>1050938</td>\n",
       "      <td>Abandoned</td>\n",
       "      <td>0</td>\n",
       "    </tr>\n",
       "    <tr>\n",
       "      <td>37</td>\n",
       "      <td>2347980</td>\n",
       "      <td>Suspended</td>\n",
       "      <td>2</td>\n",
       "    </tr>\n",
       "    <tr>\n",
       "      <td>38</td>\n",
       "      <td>2142192</td>\n",
       "      <td>Abandoned</td>\n",
       "      <td>0</td>\n",
       "    </tr>\n",
       "    <tr>\n",
       "      <td>39</td>\n",
       "      <td>2373070</td>\n",
       "      <td>Suspended</td>\n",
       "      <td>2</td>\n",
       "    </tr>\n",
       "    <tr>\n",
       "      <td>40</td>\n",
       "      <td>2563239</td>\n",
       "      <td>Abandoned</td>\n",
       "      <td>0</td>\n",
       "    </tr>\n",
       "    <tr>\n",
       "      <td>41</td>\n",
       "      <td>31800</td>\n",
       "      <td>Suspended</td>\n",
       "      <td>2</td>\n",
       "    </tr>\n",
       "    <tr>\n",
       "      <td>42</td>\n",
       "      <td>2617825</td>\n",
       "      <td>Active</td>\n",
       "      <td>1</td>\n",
       "    </tr>\n",
       "    <tr>\n",
       "      <td>43</td>\n",
       "      <td>2221100</td>\n",
       "      <td>Suspended</td>\n",
       "      <td>2</td>\n",
       "    </tr>\n",
       "    <tr>\n",
       "      <td>44</td>\n",
       "      <td>2575823</td>\n",
       "      <td>Active</td>\n",
       "      <td>1</td>\n",
       "    </tr>\n",
       "    <tr>\n",
       "      <td>45</td>\n",
       "      <td>2229029</td>\n",
       "      <td>Active</td>\n",
       "      <td>1</td>\n",
       "    </tr>\n",
       "    <tr>\n",
       "      <td>46</td>\n",
       "      <td>2357291</td>\n",
       "      <td>Active</td>\n",
       "      <td>1</td>\n",
       "    </tr>\n",
       "    <tr>\n",
       "      <td>47</td>\n",
       "      <td>1085127</td>\n",
       "      <td>Abandoned</td>\n",
       "      <td>0</td>\n",
       "    </tr>\n",
       "    <tr>\n",
       "      <td>48</td>\n",
       "      <td>2086219</td>\n",
       "      <td>Suspended</td>\n",
       "      <td>2</td>\n",
       "    </tr>\n",
       "    <tr>\n",
       "      <td>49</td>\n",
       "      <td>2083791</td>\n",
       "      <td>Active</td>\n",
       "      <td>1</td>\n",
       "    </tr>\n",
       "  </tbody>\n",
       "</table>\n",
       "</div>"
      ],
      "text/plain": [
       "    EPAssetsId well_status  well_status_code\n",
       "0      2314251   Suspended                 2\n",
       "1      2341273      Active                 1\n",
       "2      1086314   Abandoned                 0\n",
       "3      2210835   Abandoned                 0\n",
       "4        40946   Suspended                 2\n",
       "5      1061238      Active                 1\n",
       "6      1010329      Active                 1\n",
       "7      2012754   Abandoned                 0\n",
       "8      2133646   Abandoned                 0\n",
       "9      2569043      Active                 1\n",
       "10     2461270   Suspended                 2\n",
       "11     1150331      Active                 1\n",
       "12     1093024      Active                 1\n",
       "13     1118037   Abandoned                 0\n",
       "14     2370950   Suspended                 2\n",
       "15     1045997      Active                 1\n",
       "16     2105311   Abandoned                 0\n",
       "17     1082233   Abandoned                 0\n",
       "18     2484260   Abandoned                 0\n",
       "19     1104272   Suspended                 2\n",
       "20     2438366      Active                 1\n",
       "21     2585489      Active                 1\n",
       "22     2556099   Abandoned                 0\n",
       "23     2359955   Abandoned                 0\n",
       "24     2280993   Abandoned                 0\n",
       "25     2405272   Abandoned                 0\n",
       "26     1135704      Active                 1\n",
       "27     2083371      Active                 1\n",
       "28     1148297      Active                 1\n",
       "29     2040816      Active                 1\n",
       "30     2281780   Abandoned                 0\n",
       "31     2066969   Abandoned                 0\n",
       "32     2236001   Suspended                 2\n",
       "33     2564023   Abandoned                 0\n",
       "34     2365118      Active                 1\n",
       "35     2102467   Suspended                 2\n",
       "36     1050938   Abandoned                 0\n",
       "37     2347980   Suspended                 2\n",
       "38     2142192   Abandoned                 0\n",
       "39     2373070   Suspended                 2\n",
       "40     2563239   Abandoned                 0\n",
       "41       31800   Suspended                 2\n",
       "42     2617825      Active                 1\n",
       "43     2221100   Suspended                 2\n",
       "44     2575823      Active                 1\n",
       "45     2229029      Active                 1\n",
       "46     2357291      Active                 1\n",
       "47     1085127   Abandoned                 0\n",
       "48     2086219   Suspended                 2\n",
       "49     2083791      Active                 1"
      ]
     },
     "execution_count": 55,
     "metadata": {},
     "output_type": "execute_result"
    }
   ],
   "source": [
    "df_clas_well_class_train.head(50)"
   ]
  },
  {
   "cell_type": "code",
   "execution_count": 56,
   "metadata": {
    "colab": {
     "base_uri": "https://localhost:8080/",
     "height": 291
    },
    "colab_type": "code",
    "collapsed": true,
    "id": "iTL87VBgQpA6",
    "outputId": "e772f42e-0679-4d05-e096-2eab66f15cc6"
   },
   "outputs": [
    {
     "data": {
      "text/html": [
       "<div>\n",
       "<style scoped>\n",
       "    .dataframe tbody tr th:only-of-type {\n",
       "        vertical-align: middle;\n",
       "    }\n",
       "\n",
       "    .dataframe tbody tr th {\n",
       "        vertical-align: top;\n",
       "    }\n",
       "\n",
       "    .dataframe thead th {\n",
       "        text-align: right;\n",
       "    }\n",
       "</style>\n",
       "<table border=\"1\" class=\"dataframe\">\n",
       "  <thead>\n",
       "    <tr style=\"text-align: right;\">\n",
       "      <th></th>\n",
       "      <th>EPAssetsId</th>\n",
       "      <th>well_status_code</th>\n",
       "    </tr>\n",
       "  </thead>\n",
       "  <tbody>\n",
       "    <tr>\n",
       "      <td>count</td>\n",
       "      <td>5.886730e+05</td>\n",
       "      <td>588673.000000</td>\n",
       "    </tr>\n",
       "    <tr>\n",
       "      <td>mean</td>\n",
       "      <td>2.019055e+06</td>\n",
       "      <td>0.759097</td>\n",
       "    </tr>\n",
       "    <tr>\n",
       "      <td>std</td>\n",
       "      <td>9.069427e+05</td>\n",
       "      <td>0.737610</td>\n",
       "    </tr>\n",
       "    <tr>\n",
       "      <td>min</td>\n",
       "      <td>1.000000e+00</td>\n",
       "      <td>0.000000</td>\n",
       "    </tr>\n",
       "    <tr>\n",
       "      <td>25%</td>\n",
       "      <td>2.001535e+06</td>\n",
       "      <td>0.000000</td>\n",
       "    </tr>\n",
       "    <tr>\n",
       "      <td>50%</td>\n",
       "      <td>2.210924e+06</td>\n",
       "      <td>1.000000</td>\n",
       "    </tr>\n",
       "    <tr>\n",
       "      <td>75%</td>\n",
       "      <td>2.420443e+06</td>\n",
       "      <td>1.000000</td>\n",
       "    </tr>\n",
       "    <tr>\n",
       "      <td>max</td>\n",
       "      <td>7.012320e+06</td>\n",
       "      <td>2.000000</td>\n",
       "    </tr>\n",
       "  </tbody>\n",
       "</table>\n",
       "</div>"
      ],
      "text/plain": [
       "         EPAssetsId  well_status_code\n",
       "count  5.886730e+05     588673.000000\n",
       "mean   2.019055e+06          0.759097\n",
       "std    9.069427e+05          0.737610\n",
       "min    1.000000e+00          0.000000\n",
       "25%    2.001535e+06          0.000000\n",
       "50%    2.210924e+06          1.000000\n",
       "75%    2.420443e+06          1.000000\n",
       "max    7.012320e+06          2.000000"
      ]
     },
     "execution_count": 56,
     "metadata": {},
     "output_type": "execute_result"
    }
   ],
   "source": [
    "df_clas_well_class_train.describe()"
   ]
  },
  {
   "cell_type": "markdown",
   "metadata": {
    "colab_type": "text",
    "id": "05WOGGoLQpA8"
   },
   "source": [
    "## Well Class Validation File"
   ]
  },
  {
   "cell_type": "code",
   "execution_count": 57,
   "metadata": {
    "colab": {
     "base_uri": "https://localhost:8080/",
     "height": 32
    },
    "colab_type": "code",
    "id": "sCEW4PvhQpA8",
    "outputId": "05e1155c-dfc8-4814-c5ee-81b3d3931f90"
   },
   "outputs": [
    {
     "data": {
      "text/plain": [
       "(132131, 3)"
      ]
     },
     "execution_count": 57,
     "metadata": {},
     "output_type": "execute_result"
    }
   ],
   "source": [
    "df_clas_well_class_validation.shape"
   ]
  },
  {
   "cell_type": "code",
   "execution_count": 58,
   "metadata": {
    "colab": {
     "base_uri": "https://localhost:8080/",
     "height": 82
    },
    "colab_type": "code",
    "collapsed": true,
    "id": "jlI2aD6zQpA-",
    "outputId": "12261b22-8d6d-4079-f74f-6d7b573533fa"
   },
   "outputs": [
    {
     "data": {
      "text/plain": [
       "EPAssetsId          132131\n",
       "well_status              3\n",
       "well_status_code         3\n",
       "dtype: int64"
      ]
     },
     "execution_count": 58,
     "metadata": {},
     "output_type": "execute_result"
    }
   ],
   "source": [
    "df_clas_well_class_validation.nunique()"
   ]
  },
  {
   "cell_type": "code",
   "execution_count": 59,
   "metadata": {
    "colab": {
     "base_uri": "https://localhost:8080/",
     "height": 148
    },
    "colab_type": "code",
    "collapsed": true,
    "id": "fn8hGYyOQpA_",
    "outputId": "c9ba2f87-1a11-4214-b3a7-f178e4abb098"
   },
   "outputs": [
    {
     "name": "stdout",
     "output_type": "stream",
     "text": [
      "<class 'pandas.core.frame.DataFrame'>\n",
      "RangeIndex: 132131 entries, 0 to 132130\n",
      "Data columns (total 3 columns):\n",
      "EPAssetsId          132131 non-null int64\n",
      "well_status         132131 non-null object\n",
      "well_status_code    132131 non-null int64\n",
      "dtypes: int64(2), object(1)\n",
      "memory usage: 3.0+ MB\n"
     ]
    }
   ],
   "source": [
    "df_clas_well_class_validation.info()"
   ]
  },
  {
   "cell_type": "code",
   "execution_count": 60,
   "metadata": {
    "colab": {
     "base_uri": "https://localhost:8080/",
     "height": 201
    },
    "colab_type": "code",
    "collapsed": true,
    "id": "jsHJBURrQpBB",
    "outputId": "eb63fe26-682f-4ee2-f99a-6c2e7d5708d9"
   },
   "outputs": [
    {
     "data": {
      "text/html": [
       "<div>\n",
       "<style scoped>\n",
       "    .dataframe tbody tr th:only-of-type {\n",
       "        vertical-align: middle;\n",
       "    }\n",
       "\n",
       "    .dataframe tbody tr th {\n",
       "        vertical-align: top;\n",
       "    }\n",
       "\n",
       "    .dataframe thead th {\n",
       "        text-align: right;\n",
       "    }\n",
       "</style>\n",
       "<table border=\"1\" class=\"dataframe\">\n",
       "  <thead>\n",
       "    <tr style=\"text-align: right;\">\n",
       "      <th></th>\n",
       "      <th>EPAssetsId</th>\n",
       "      <th>well_status</th>\n",
       "      <th>well_status_code</th>\n",
       "    </tr>\n",
       "  </thead>\n",
       "  <tbody>\n",
       "    <tr>\n",
       "      <td>0</td>\n",
       "      <td>9</td>\n",
       "      <td>Suspended</td>\n",
       "      <td>2</td>\n",
       "    </tr>\n",
       "    <tr>\n",
       "      <td>1</td>\n",
       "      <td>17</td>\n",
       "      <td>Active</td>\n",
       "      <td>1</td>\n",
       "    </tr>\n",
       "    <tr>\n",
       "      <td>2</td>\n",
       "      <td>23</td>\n",
       "      <td>Abandoned</td>\n",
       "      <td>0</td>\n",
       "    </tr>\n",
       "    <tr>\n",
       "      <td>3</td>\n",
       "      <td>37</td>\n",
       "      <td>Active</td>\n",
       "      <td>1</td>\n",
       "    </tr>\n",
       "    <tr>\n",
       "      <td>4</td>\n",
       "      <td>39</td>\n",
       "      <td>Active</td>\n",
       "      <td>1</td>\n",
       "    </tr>\n",
       "  </tbody>\n",
       "</table>\n",
       "</div>"
      ],
      "text/plain": [
       "   EPAssetsId well_status  well_status_code\n",
       "0           9   Suspended                 2\n",
       "1          17      Active                 1\n",
       "2          23   Abandoned                 0\n",
       "3          37      Active                 1\n",
       "4          39      Active                 1"
      ]
     },
     "execution_count": 60,
     "metadata": {},
     "output_type": "execute_result"
    }
   ],
   "source": [
    "df_clas_well_class_validation.head()"
   ]
  },
  {
   "cell_type": "code",
   "execution_count": 61,
   "metadata": {
    "colab": {
     "base_uri": "https://localhost:8080/",
     "height": 291
    },
    "colab_type": "code",
    "collapsed": true,
    "id": "sm6lPut8QpBC",
    "outputId": "00df9d66-51b0-41e9-e1e6-1216d89cd57e"
   },
   "outputs": [
    {
     "data": {
      "text/html": [
       "<div>\n",
       "<style scoped>\n",
       "    .dataframe tbody tr th:only-of-type {\n",
       "        vertical-align: middle;\n",
       "    }\n",
       "\n",
       "    .dataframe tbody tr th {\n",
       "        vertical-align: top;\n",
       "    }\n",
       "\n",
       "    .dataframe thead th {\n",
       "        text-align: right;\n",
       "    }\n",
       "</style>\n",
       "<table border=\"1\" class=\"dataframe\">\n",
       "  <thead>\n",
       "    <tr style=\"text-align: right;\">\n",
       "      <th></th>\n",
       "      <th>EPAssetsId</th>\n",
       "      <th>well_status_code</th>\n",
       "    </tr>\n",
       "  </thead>\n",
       "  <tbody>\n",
       "    <tr>\n",
       "      <td>count</td>\n",
       "      <td>1.321310e+05</td>\n",
       "      <td>132131.000000</td>\n",
       "    </tr>\n",
       "    <tr>\n",
       "      <td>mean</td>\n",
       "      <td>2.028815e+06</td>\n",
       "      <td>0.724955</td>\n",
       "    </tr>\n",
       "    <tr>\n",
       "      <td>std</td>\n",
       "      <td>9.144068e+05</td>\n",
       "      <td>0.738822</td>\n",
       "    </tr>\n",
       "    <tr>\n",
       "      <td>min</td>\n",
       "      <td>9.000000e+00</td>\n",
       "      <td>0.000000</td>\n",
       "    </tr>\n",
       "    <tr>\n",
       "      <td>25%</td>\n",
       "      <td>2.003216e+06</td>\n",
       "      <td>0.000000</td>\n",
       "    </tr>\n",
       "    <tr>\n",
       "      <td>50%</td>\n",
       "      <td>2.215400e+06</td>\n",
       "      <td>1.000000</td>\n",
       "    </tr>\n",
       "    <tr>\n",
       "      <td>75%</td>\n",
       "      <td>2.422774e+06</td>\n",
       "      <td>1.000000</td>\n",
       "    </tr>\n",
       "    <tr>\n",
       "      <td>max</td>\n",
       "      <td>7.012319e+06</td>\n",
       "      <td>2.000000</td>\n",
       "    </tr>\n",
       "  </tbody>\n",
       "</table>\n",
       "</div>"
      ],
      "text/plain": [
       "         EPAssetsId  well_status_code\n",
       "count  1.321310e+05     132131.000000\n",
       "mean   2.028815e+06          0.724955\n",
       "std    9.144068e+05          0.738822\n",
       "min    9.000000e+00          0.000000\n",
       "25%    2.003216e+06          0.000000\n",
       "50%    2.215400e+06          1.000000\n",
       "75%    2.422774e+06          1.000000\n",
       "max    7.012319e+06          2.000000"
      ]
     },
     "execution_count": 61,
     "metadata": {},
     "output_type": "execute_result"
    }
   ],
   "source": [
    "df_clas_well_class_validation.describe()"
   ]
  }
 ],
 "metadata": {
  "colab": {
   "collapsed_sections": [],
   "include_colab_link": true,
   "name": "EDA_Meisam.ipynb",
   "provenance": []
  },
  "kernelspec": {
   "display_name": "Python 3",
   "language": "python",
   "name": "python3"
  },
  "language_info": {
   "codemirror_mode": {
    "name": "ipython",
    "version": 3
   },
   "file_extension": ".py",
   "mimetype": "text/x-python",
   "name": "python",
   "nbconvert_exporter": "python",
   "pygments_lexer": "ipython3",
   "version": "3.7.3"
  }
 },
 "nbformat": 4,
 "nbformat_minor": 1
}
